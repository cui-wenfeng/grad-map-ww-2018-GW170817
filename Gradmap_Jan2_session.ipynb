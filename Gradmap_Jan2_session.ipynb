{
 "cells": [
  {
   "cell_type": "markdown",
   "metadata": {},
   "source": [
    "# EM counterpart to Gravitational waves\n",
    "\n",
    "Leo has covered a substantial ground on the recent discovery of neutron star - neutron star merger leading to scrambling of more than fifty obsrvatories to follow-up the electromagnetic counterpart from gamma-rays to radio waves. In this project, we will make use of the optical and near-IR light curves of this kilonova and fit a model to it to determine the time evolution of various parameters of the ejecta such as temperature, velocity and radius. We will use an expanding blackbody model in this project. \n",
    "\n",
    "A quick reference to one of the discovery papers is here: \n",
    "Kasliwal et al. 2017, https://arxiv.org/abs/1710.05436 Illuminating Gravitational Waves: A Concordant Picture of Photons from a Neutron Star Merger\n",
    "\n",
    "Let's look at some background before we jump right into the science."
   ]
  },
  {
   "cell_type": "markdown",
   "metadata": {},
   "source": [
    "# Introducing AB magnitude system\n",
    "In astronomy, the brightness of the objects are defined and compared in a logarithmic scale called the magnitude system. Within that, there are several magnitude systems with their own reference points and scaling. One of the most widely used system of magnitudes is the AB magnitude. You can read more about magnitude system and AB magnitudes here: http://www.astronomynotes.com/starprop/s4.htm\n",
    "\n",
    "This magnitude system is defined such that, when monochromatic flux f_nu is measured in $erg/sec/cm^2/Hz$\n",
    "\n",
    "$m(AB) = -2.5 log(f_{\\nu}) - 48.60$\n",
    "where the value of the constant is selected to define m(AB)=V for a flat-spectrum source. In this system, an object with constant flux per unit frequency interval has zero color.\n",
    "It is helpful to bear in mind the identity\n",
    "\n",
    "$\\lambda f_{\\lambda} = \\nu f_{\\nu}$\n",
    "so $f_{\\nu} = f_{\\lambda}*(\\lambda/\\nu) = f_{\\lambda}*\\lambda^2/c.$"
   ]
  },
  {
   "cell_type": "markdown",
   "metadata": {},
   "source": [
    "# Apparent vs absolute magnitudes\n",
    "\n",
    "Apprent magnitude (m): The apparent magnitude of a celestial object, such as a star or galaxy, is the brightness measured by an observer at a specific distance from the object. The smaller the distance between the observer and object, the greater the apparent brightness.\n",
    "\n",
    "Absolute magnitude (M): The absolute magnitude of a star, M is the magnitude the star would have if it was placed at a distance of 10 parsecs from Earth. By considering stars at a fixed distance, astronomers can compare the real (intrinsic) brightnesses of different stars.\n",
    "\n",
    "The ‘distance modulus’ is the difference between the apparent magnitude and absolute magnitude of a celestial object (m – M), and provides a measure of the distance to the object, r.\n",
    "\n",
    "Here's a nice short tutorial on fluxes and luminosity:  http://astronomy.swin.edu.au/cosmos/D/Distance+Modulus\n",
    "\n",
    "Distance modulus $ = {m - M} = 5\\log_{10} (\\frac{r}{10}) $\twhere\t\n",
    "m =\tapparent magnitude of the star\n",
    "\n",
    "M =\tabsolute magnitude of the star, and\n",
    "\n",
    "r =\tdistance to the star in parsecs\n",
    "\n"
   ]
  },
  {
   "cell_type": "markdown",
   "metadata": {},
   "source": [
    "# Quick exercise\n",
    "\n",
    "The apparent and absolute magnitudes for Rigel star are 0.14 and -7.1 respectively (in visual bands). What is the distance of the star from us?"
   ]
  },
  {
   "cell_type": "markdown",
   "metadata": {},
   "source": [
    "# Filters in Astronomy\n",
    "Refer to Leo's notebook"
   ]
  },
  {
   "cell_type": "markdown",
   "metadata": {},
   "source": [
    "# Extinction correction\n",
    "\n",
    "The light reaching us from another galaxy has to pass though the dusty lanes of our own galaxy, Milky Way. During this journey some of the light is absorbed/scattered by the interstellar dust. This absorption is wavelength dependent. We have to correct our data for this absorption before we move forward, so that we get reliable results. Here's a nice article on the interstellar absorption: http://astronomy.swin.edu.au/cosmos/E/Extinction\n",
    "\n",
    "The (“general”) extinction A can also be written as terms of the brightness in magnitudes of a source, but this requires knowing its distance and luminosity\n",
    "\n",
    "$m_{\\lambda} = M_{\\lambda} + 5\\log_{10} (\\frac{r}{10}) + A_{\\lambda}$ "
   ]
  },
  {
   "cell_type": "code",
   "execution_count": 2,
   "metadata": {
    "collapsed": true
   },
   "outputs": [],
   "source": [
    "import numpy as np\n",
    "import matplotlib.pyplot as plt\n",
    "from astropy.io import fits\n",
    "import math\n",
    "from scipy.optimize import curve_fit\n",
    "import glob\n",
    "import os\n",
    "import os.path\n",
    "\n",
    "from astropy.table import Table\n",
    "from astropy.time import Time\n",
    "from astropy import units as u\n",
    "from matplotlib import pyplot as plt\n",
    "import numpy as np\n",
    "%matplotlib inline"
   ]
  },
  {
   "cell_type": "markdown",
   "metadata": {},
   "source": []
  }
 ],
 "metadata": {
  "kernelspec": {
   "display_name": "Python [Root]",
   "language": "python",
   "name": "Python [Root]"
  },
  "language_info": {
   "codemirror_mode": {
    "name": "ipython",
    "version": 3
   },
   "file_extension": ".py",
   "mimetype": "text/x-python",
   "name": "python",
   "nbconvert_exporter": "python",
   "pygments_lexer": "ipython3",
   "version": "3.5.2"
  }
 },
 "nbformat": 4,
 "nbformat_minor": 0
}
