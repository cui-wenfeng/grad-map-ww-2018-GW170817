{
 "cells": [
  {
   "cell_type": "markdown",
   "metadata": {},
   "source": [
    "# Bolometric modeling of GW170817"
   ]
  },
  {
   "cell_type": "markdown",
   "metadata": {},
   "source": [
    "## Imports"
   ]
  },
  {
   "cell_type": "code",
   "execution_count": 1,
   "metadata": {},
   "outputs": [],
   "source": [
    "from astropy.table import join, Table\n",
    "from astropy.time import Time\n",
    "from astropy import units as u\n",
    "from astropy.utils.data import download_file\n",
    "from ligo.gracedb.rest import GraceDb\n",
    "from lxml import etree\n",
    "import seaborn"
   ]
  },
  {
   "cell_type": "markdown",
   "metadata": {},
   "source": [
    "## Merger time\n",
    "\n",
    "LIGO/Virgo merger time in UTC from [GCN 21513](https://gcn.gsfc.nasa.gov/gcn3/21513.gcn3)."
   ]
  },
  {
   "cell_type": "code",
   "execution_count": 2,
   "metadata": {},
   "outputs": [
    {
     "data": {
      "text/plain": [
       "'2017-08-17 12:41:04.443'"
      ]
     },
     "execution_count": 2,
     "metadata": {},
     "output_type": "execute_result"
    }
   ],
   "source": [
    "t0 = Time(1187008882.443, format='gps').utc\n",
    "t0.iso"
   ]
  },
  {
   "cell_type": "markdown",
   "metadata": {},
   "source": [
    "## GW170817 photometry\n",
    "\n",
    "Retrieve the light curve from the [Open Kilonova Catalog](https://kilonova.space)."
   ]
  },
  {
   "cell_type": "code",
   "execution_count": 3,
   "metadata": {},
   "outputs": [
    {
     "name": "stdout",
     "output_type": "stream",
     "text": [
      "Downloading https://api.kilonova.space/GW170817/photometry/system+upperlimit+time+band+magnitude+e_magnitude?format=csv [Done]\n"
     ]
    },
    {
     "data": {
      "text/html": [
       "<i>Table masked=True length=616</i>\n",
       "<table id=\"table4479154608\" class=\"table-striped table-bordered table-condensed\">\n",
       "<thead><tr><th>band</th><th>magnitude</th><th>e_magnitude</th><th>time</th></tr></thead>\n",
       "<thead><tr><th></th><th></th><th></th><th>d</th></tr></thead>\n",
       "<thead><tr><th>str5</th><th>float64</th><th>float64</th><th>float64</th></tr></thead>\n",
       "<tr><td>i</td><td>17.48</td><td>0.02</td><td>0.45287635416</td></tr>\n",
       "<tr><td>H</td><td>18.26</td><td>0.15</td><td>0.461676354164</td></tr>\n",
       "<tr><td>r</td><td>17.46</td><td>0.03</td><td>0.464476354166</td></tr>\n",
       "<tr><td>Ks</td><td>18.62</td><td>0.05</td><td>0.470476354167</td></tr>\n",
       "<tr><td>J</td><td>17.83</td><td>0.15</td><td>0.471476354163</td></tr>\n",
       "<tr><td>V</td><td>17.35</td><td>0.02</td><td>0.471476354163</td></tr>\n",
       "<tr><td>r</td><td>17.33</td><td>0.02</td><td>0.471476354163</td></tr>\n",
       "<tr><td>z</td><td>17.67</td><td>0.03</td><td>0.471476354163</td></tr>\n",
       "<tr><td>i</td><td>17.4801307871</td><td>0.0252984934401</td><td>0.47453585417</td></tr>\n",
       "<tr><td>...</td><td>...</td><td>...</td><td>...</td></tr>\n",
       "<tr><td>Ks</td><td>20.81</td><td>0.13</td><td>18.4314763542</td></tr>\n",
       "<tr><td>K</td><td>20.76</td><td>0.35</td><td>18.4378263542</td></tr>\n",
       "<tr><td>K</td><td>20.84</td><td>0.26</td><td>18.4497749653</td></tr>\n",
       "<tr><td>Ks</td><td>21.04</td><td>0.09</td><td>18.4504763542</td></tr>\n",
       "<tr><td>Ks</td><td>20.93</td><td>0.17</td><td>18.4614763542</td></tr>\n",
       "<tr><td>Ks</td><td>20.85</td><td>0.13</td><td>19.4599953542</td></tr>\n",
       "<tr><td>Ks</td><td>21.23</td><td>0.37</td><td>19.4604763542</td></tr>\n",
       "<tr><td>z</td><td>23.37</td><td>0.48</td><td>19.4634763542</td></tr>\n",
       "<tr><td>Ks</td><td>21.46</td><td>0.08</td><td>21.4404763542</td></tr>\n",
       "<tr><td>Ks</td><td>22.06</td><td>0.22</td><td>25.4404763542</td></tr>\n",
       "</table>"
      ],
      "text/plain": [
       "<Table masked=True length=616>\n",
       "band   magnitude     e_magnitude        time     \n",
       "                                         d       \n",
       "str5    float64        float64        float64    \n",
       "---- ------------- --------------- --------------\n",
       "   i         17.48            0.02  0.45287635416\n",
       "   H         18.26            0.15 0.461676354164\n",
       "   r         17.46            0.03 0.464476354166\n",
       "  Ks         18.62            0.05 0.470476354167\n",
       "   J         17.83            0.15 0.471476354163\n",
       "   V         17.35            0.02 0.471476354163\n",
       "   r         17.33            0.02 0.471476354163\n",
       "   z         17.67            0.03 0.471476354163\n",
       "   i 17.4801307871 0.0252984934401  0.47453585417\n",
       " ...           ...             ...            ...\n",
       "  Ks         20.81            0.13  18.4314763542\n",
       "   K         20.76            0.35  18.4378263542\n",
       "   K         20.84            0.26  18.4497749653\n",
       "  Ks         21.04            0.09  18.4504763542\n",
       "  Ks         20.93            0.17  18.4614763542\n",
       "  Ks         20.85            0.13  19.4599953542\n",
       "  Ks         21.23            0.37  19.4604763542\n",
       "   z         23.37            0.48  19.4634763542\n",
       "  Ks         21.46            0.08  21.4404763542\n",
       "  Ks         22.06            0.22  25.4404763542"
      ]
     },
     "execution_count": 3,
     "metadata": {},
     "output_type": "execute_result"
    }
   ],
   "source": [
    "url = 'https://api.kilonova.space/GW170817/photometry/system+upperlimit+time+band+magnitude+e_magnitude?format=csv'\n",
    "photometry = Table.read(url, format='ascii')\n",
    "\n",
    "# Keep only data points that are in the AB magnitude system.\n",
    "photometry = photometry[photometry.columns.pop('system') == 'AB']\n",
    "\n",
    "# Keep only detections (no upper limits).\n",
    "photometry = photometry[photometry.columns.pop('upperlimit') == 'F']\n",
    "\n",
    "# Get rid of unfiltered observations (mostly MASTER).\n",
    "photometry = photometry[photometry['band'] != 'C']\n",
    "photometry = photometry[photometry['band'] != 'W']\n",
    "\n",
    "# Convert to time since merger.\n",
    "photometry['time'] = (np.asarray(photometry.columns.pop('time')).astype(float) - t0.mjd) * u.day\n",
    "\n",
    "photometry"
   ]
  },
  {
   "cell_type": "markdown",
   "metadata": {},
   "source": [
    "## Get filter wavelengths.\n",
    "\n",
    "Retrieve filter wavelengths from the [SVO Filter Profile Service](http://svo2.cab.inta-csic.es/svo/theory/fps/).\n",
    "\n",
    "**TODO**: Double check these."
   ]
  },
  {
   "cell_type": "code",
   "execution_count": 4,
   "metadata": {},
   "outputs": [
    {
     "data": {
      "text/html": [
       "<i>Table length=30</i>\n",
       "<table id=\"table4488663112\" class=\"table-striped table-bordered table-condensed\">\n",
       "<thead><tr><th>band</th><th>wavelength</th></tr></thead>\n",
       "<thead><tr><th></th><th>Angstrom</th></tr></thead>\n",
       "<thead><tr><th>str5</th><th>float64</th></tr></thead>\n",
       "<tr><td>W2</td><td>1941.22132174</td></tr>\n",
       "<tr><td>M2</td><td>2246.00356226</td></tr>\n",
       "<tr><td>W1</td><td>2604.56916481</td></tr>\n",
       "<tr><td>F336W</td><td>3368.34066118</td></tr>\n",
       "<tr><td>U</td><td>3463.14480935</td></tr>\n",
       "<tr><td>u</td><td>3565.05466331</td></tr>\n",
       "<tr><td>B</td><td>4371.22288257</td></tr>\n",
       "<tr><td>g</td><td>4700.32922202</td></tr>\n",
       "<tr><td>F475W</td><td>4768.17707412</td></tr>\n",
       "<tr><td>...</td><td>...</td></tr>\n",
       "<tr><td>F850W</td><td>9082.32591793</td></tr>\n",
       "<tr><td>y</td><td>9509.79600694</td></tr>\n",
       "<tr><td>Y</td><td>9841.97072746</td></tr>\n",
       "<tr><td>J1</td><td>10547.728455</td></tr>\n",
       "<tr><td>F110W</td><td>11515.0652022</td></tr>\n",
       "<tr><td>J</td><td>12537.5926028</td></tr>\n",
       "<tr><td>F160W</td><td>15433.0755077</td></tr>\n",
       "<tr><td>H</td><td>16309.1096603</td></tr>\n",
       "<tr><td>K</td><td>21557.0615385</td></tr>\n",
       "<tr><td>Ks</td><td>21557.0615385</td></tr>\n",
       "</table>"
      ],
      "text/plain": [
       "<Table length=30>\n",
       " band   wavelength \n",
       "         Angstrom  \n",
       " str5    float64   \n",
       "----- -------------\n",
       "   W2 1941.22132174\n",
       "   M2 2246.00356226\n",
       "   W1 2604.56916481\n",
       "F336W 3368.34066118\n",
       "    U 3463.14480935\n",
       "    u 3565.05466331\n",
       "    B 4371.22288257\n",
       "    g 4700.32922202\n",
       "F475W 4768.17707412\n",
       "  ...           ...\n",
       "F850W 9082.32591793\n",
       "    y 9509.79600694\n",
       "    Y 9841.97072746\n",
       "   J1  10547.728455\n",
       "F110W 11515.0652022\n",
       "    J 12537.5926028\n",
       "F160W 15433.0755077\n",
       "    H 16309.1096603\n",
       "    K 21557.0615385\n",
       "   Ks 21557.0615385"
      ]
     },
     "execution_count": 4,
     "metadata": {},
     "output_type": "execute_result"
    }
   ],
   "source": [
    "filter_longnames = {\n",
    "    'F110W': 'HST/WFC3_IR.F110W',\n",
    "    'F160W': 'HST/WFC3_IR.F160W',\n",
    "    'F336W': 'HST/WFC3_UVIS2.F336W',\n",
    "    'F475W': 'HST/WFC3_UVIS2.F475W',\n",
    "    'F606W': 'HST/WFC3_UVIS2.F606W',\n",
    "    'F625W': 'HST/WFC3_UVIS2.F625W',\n",
    "    'F775W': 'HST/WFC3_UVIS2.F775W',\n",
    "    'F814W': 'HST/WFC3_UVIS2.F814W',\n",
    "    'F850W': 'HST/WFC3_UVIS2.F850LP',\n",
    "    'B': 'Swift/UVOT.B',\n",
    "    'U': 'Swift/UVOT.U',\n",
    "    'V': 'Swift/UVOT.V',\n",
    "    'W1': 'Swift/UVOT.UVW1',\n",
    "    'W2': 'Swift/UVOT.UVW2',\n",
    "    'M2': 'Swift/UVOT.UVM2',\n",
    "    'H': 'Gemini/Flamingos2.H',\n",
    "    'I': 'CTIO/DECam.I',\n",
    "    'Y': 'CTIO/DECam.Y',\n",
    "    'R': 'CTIO/DECam.R',\n",
    "    'J': 'Gemini/Flamingos2.J',\n",
    "    'K': 'Gemini/Flamingos2.Ks',\n",
    "    'Ks': 'Gemini/Flamingos2.Ks',\n",
    "    'u': 'SLOAN/SDSS.u',\n",
    "    'g': 'SLOAN/SDSS.g',\n",
    "    'r': 'SLOAN/SDSS.r',\n",
    "    'i': 'SLOAN/SDSS.i',\n",
    "    'z': 'SLOAN/SDSS.z',\n",
    "    'y': 'PAN-STARRS/PS1.y',\n",
    "    'J1': 'LCO/FourStar.J1',\n",
    "    'w': 'LasCumbres/LasCumbres.PS_w'\n",
    "}\n",
    "filter_names = []\n",
    "filter_wavelengths = []\n",
    "pattern = 'http://svo2.cab.inta-csic.es/svo/theory/fps3/fps.php?PhotCalID={}/AB&VERB=2'\n",
    "for name, longname in filter_longnames.items():\n",
    "    filename = download_file(pattern.format(longname), cache=True)\n",
    "    tree = etree.parse(filename)\n",
    "    elem, = tree.iterfind(\n",
    "        '//{*}PARAM[@name=\"WavelengthCen\"][@unit=\"Angstrom\"]')\n",
    "    filter_names.append(name)\n",
    "    filter_wavelengths.append(float(elem.attrib['value']))\n",
    "filters = Table([filter_names, np.asarray(filter_wavelengths) * u.Angstrom], names=['band', 'wavelength'])\n",
    "filters.sort('wavelength')\n",
    "filters"
   ]
  },
  {
   "cell_type": "markdown",
   "metadata": {},
   "source": [
    "## Plot light curve"
   ]
  },
  {
   "cell_type": "code",
   "execution_count": 5,
   "metadata": {},
   "outputs": [
    {
     "data": {
      "image/png": "[encoded data removed]",
      "text/plain": [
       "<matplotlib.figure.Figure at 0x10af70d68>"
      ]
     },
     "metadata": {},
     "output_type": "display_data"
    }
   ],
   "source": [
    "ax = plt.axes()\n",
    "ax.invert_yaxis()\n",
    "palette = dict(zip(filters['band'], seaborn.color_palette('magma', len(filters))))\n",
    "for group in photometry.group_by('band').groups:\n",
    "    band = group[0]['band']\n",
    "    ax.plot(group['time'], group['magnitude'], '.', color=palette[band])"
   ]
  }
 ],
 "metadata": {
  "kernelspec": {
   "display_name": "Python 3",
   "language": "python",
   "name": "python3"
  },
  "language_info": {
   "codemirror_mode": {
    "name": "ipython",
    "version": 3
   },
   "file_extension": ".py",
   "mimetype": "text/x-python",
   "name": "python",
   "nbconvert_exporter": "python",
   "pygments_lexer": "ipython3",
   "version": "3.6.3"
  }
 },
 "nbformat": 4,
 "nbformat_minor": 2
}
