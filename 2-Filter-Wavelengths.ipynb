{
 "cells": [
  {
   "cell_type": "markdown",
   "metadata": {},
   "source": [
    "# 2. Filter wavelengths\n",
    "\n",
    "In the previous notebook, we retrieved a light curve of GW170817. In this notebook, we will use the [SVO Filter Profile Service](http://svo2.cab.inta-csic.es/svo/theory/fps/) to look up central wavelengths of the photometric bands.\n",
    "\n",
    "The SVO Filter Profile Service is an exhaustive database of photometric response curves for many telescopes and instruments. In most cases, we are *not* using the response for the precise telescope and instrument, but rather a *representative* response. For example, we use the same central wavelength for the *K* band filter on every near-infrared instrument."
   ]
  },
  {
   "cell_type": "markdown",
   "metadata": {},
   "source": [
    "## Imports"
   ]
  },
  {
   "cell_type": "code",
   "execution_count": 1,
   "metadata": {},
   "outputs": [],
   "source": [
    "from astropy.table import Table\n",
    "from astropy.utils.data import download_file\n",
    "from astropy import units as u\n",
    "from lxml import etree"
   ]
  },
  {
   "cell_type": "markdown",
   "metadata": {},
   "source": [
    "## Mapping between names of photometric bands in the Open Kilonova Catalog and the SVO Filter Service"
   ]
  },
  {
   "cell_type": "code",
   "execution_count": 2,
   "metadata": {},
   "outputs": [],
   "source": [
    "filterdict = {\n",
    "    'F110W': 'HST/WFC3_IR.F110W',\n",
    "    'F160W': 'HST/WFC3_IR.F160W',\n",
    "    'F336W': 'HST/WFC3_UVIS2.F336W',\n",
    "    'F475W': 'HST/WFC3_UVIS2.F475W',\n",
    "    'F606W': 'HST/WFC3_UVIS2.F606W',\n",
    "    'F625W': 'HST/WFC3_UVIS2.F625W',\n",
    "    'F775W': 'HST/WFC3_UVIS2.F775W',\n",
    "    'F814W': 'HST/WFC3_UVIS2.F814W',\n",
    "    'F850W': 'HST/WFC3_UVIS2.F850LP',\n",
    "    'B': 'Swift/UVOT.B',\n",
    "    'U': 'Swift/UVOT.U',\n",
    "    'V': 'Swift/UVOT.V',\n",
    "    'W1': 'Swift/UVOT.UVW1',\n",
    "    'W2': 'Swift/UVOT.UVW2',\n",
    "    'M2': 'Swift/UVOT.UVM2',\n",
    "    'H': 'Gemini/Flamingos2.H',\n",
    "    'I': 'CTIO/DECam.I',\n",
    "    'Y': 'CTIO/DECam.Y',\n",
    "    'R': 'CTIO/DECam.R',\n",
    "    'J': 'Gemini/Flamingos2.J',\n",
    "    'K': 'Gemini/Flamingos2.Ks',\n",
    "    'Ks': 'Gemini/Flamingos2.Ks',\n",
    "    'u': 'SLOAN/SDSS.u',\n",
    "    'g': 'SLOAN/SDSS.g',\n",
    "    'r': 'SLOAN/SDSS.r',\n",
    "    'i': 'SLOAN/SDSS.i',\n",
    "    'z': 'SLOAN/SDSS.z',\n",
    "    'y': 'PAN-STARRS/PS1.y',\n",
    "    'J1': 'LCO/FourStar.J1',\n",
    "    'w': 'LasCumbres/LasCumbres.PS_w'\n",
    "}"
   ]
  },
  {
   "cell_type": "code",
   "execution_count": 3,
   "metadata": {},
   "outputs": [
    {
     "data": {
      "text/html": [
       "<i>Table length=30</i>\n",
       "<table id=\"table4392898512\" class=\"table-striped table-bordered table-condensed\">\n",
       "<thead><tr><th>band</th><th>wavelength</th></tr></thead>\n",
       "<thead><tr><th></th><th>Angstrom</th></tr></thead>\n",
       "<thead><tr><th>str5</th><th>float64</th></tr></thead>\n",
       "<tr><td>W2</td><td>1941.22132174</td></tr>\n",
       "<tr><td>M2</td><td>2246.00356226</td></tr>\n",
       "<tr><td>W1</td><td>2604.56916481</td></tr>\n",
       "<tr><td>F336W</td><td>3368.34066118</td></tr>\n",
       "<tr><td>U</td><td>3463.14480935</td></tr>\n",
       "<tr><td>u</td><td>3565.05466331</td></tr>\n",
       "<tr><td>B</td><td>4371.22288257</td></tr>\n",
       "<tr><td>g</td><td>4700.32922202</td></tr>\n",
       "<tr><td>F475W</td><td>4768.17707412</td></tr>\n",
       "<tr><td>...</td><td>...</td></tr>\n",
       "<tr><td>F850W</td><td>9082.32591793</td></tr>\n",
       "<tr><td>y</td><td>9509.79600694</td></tr>\n",
       "<tr><td>Y</td><td>9841.97072746</td></tr>\n",
       "<tr><td>J1</td><td>10547.728455</td></tr>\n",
       "<tr><td>F110W</td><td>11515.0652022</td></tr>\n",
       "<tr><td>J</td><td>12537.5926028</td></tr>\n",
       "<tr><td>F160W</td><td>15433.0755077</td></tr>\n",
       "<tr><td>H</td><td>16309.1096603</td></tr>\n",
       "<tr><td>K</td><td>21557.0615385</td></tr>\n",
       "<tr><td>Ks</td><td>21557.0615385</td></tr>\n",
       "</table>"
      ],
      "text/plain": [
       "<Table length=30>\n",
       " band   wavelength \n",
       "         Angstrom  \n",
       " str5    float64   \n",
       "----- -------------\n",
       "   W2 1941.22132174\n",
       "   M2 2246.00356226\n",
       "   W1 2604.56916481\n",
       "F336W 3368.34066118\n",
       "    U 3463.14480935\n",
       "    u 3565.05466331\n",
       "    B 4371.22288257\n",
       "    g 4700.32922202\n",
       "F475W 4768.17707412\n",
       "  ...           ...\n",
       "F850W 9082.32591793\n",
       "    y 9509.79600694\n",
       "    Y 9841.97072746\n",
       "   J1  10547.728455\n",
       "F110W 11515.0652022\n",
       "    J 12537.5926028\n",
       "F160W 15433.0755077\n",
       "    H 16309.1096603\n",
       "    K 21557.0615385\n",
       "   Ks 21557.0615385"
      ]
     },
     "execution_count": 3,
     "metadata": {},
     "output_type": "execute_result"
    }
   ],
   "source": [
    "filter_names = []\n",
    "filter_wavelengths = []\n",
    "\n",
    "# Loop over all filters\n",
    "for name, longname in filterdict.items():\n",
    "\n",
    "    # Scrape the SVO service\n",
    "    pattern = 'http://svo2.cab.inta-csic.es/svo/theory/fps3/fps.php?PhotCalID={}/AB&VERB=2'\n",
    "    filename = download_file(pattern.format(longname), cache=True)\n",
    "\n",
    "    # Parse XML to get the central wavelength in angstroms\n",
    "    tree = etree.parse(filename)\n",
    "    elem, = tree.iterfind(\n",
    "        '//{*}PARAM[@name=\"WavelengthCen\"][@unit=\"Angstrom\"]')\n",
    "\n",
    "    # Store the filter name and wavelength\n",
    "    filter_names.append(name)\n",
    "    filter_wavelengths.append(float(elem.attrib['value']))\n",
    "\n",
    "# Build table.\n",
    "filters = Table([filter_names, filter_wavelengths], names=['band', 'wavelength'])\n",
    "\n",
    "# Sort by wavelength.\n",
    "filters.sort('wavelength')\n",
    "\n",
    "# Add unit metadata.\n",
    "filters['wavelength'].unit = u.angstrom\n",
    "\n",
    "# Show table.\n",
    "filters"
   ]
  },
  {
   "cell_type": "markdown",
   "metadata": {},
   "source": [
    "## Save as ASCII"
   ]
  },
  {
   "cell_type": "code",
   "execution_count": 4,
   "metadata": {},
   "outputs": [],
   "source": [
    "filters.write('data/filters.txt', format='ascii.ecsv', overwrite=True)"
   ]
  }
 ],
 "metadata": {
  "kernelspec": {
   "display_name": "Python 3",
   "language": "python",
   "name": "python3"
  },
  "language_info": {
   "codemirror_mode": {
    "name": "ipython",
    "version": 3
   },
   "file_extension": ".py",
   "mimetype": "text/x-python",
   "name": "python",
   "nbconvert_exporter": "python",
   "pygments_lexer": "ipython3",
   "version": "3.6.4"
  }
 },
 "nbformat": 4,
 "nbformat_minor": 2
}
