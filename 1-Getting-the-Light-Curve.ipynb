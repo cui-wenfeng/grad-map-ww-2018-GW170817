{
 "cells": [
  {
   "cell_type": "markdown",
   "metadata": {},
   "source": [
    "# 1. Getting the Light Curve\n",
    "\n",
    "This notebook retrieves the light curve of AT2017gfo, the ultraviolet, optical, and near-infrared counterpart of GW170817, from [Open Kilonova Catalog](https://kilonova.space)."
   ]
  },
  {
   "cell_type": "markdown",
   "metadata": {},
   "source": [
    "## Imports"
   ]
  },
  {
   "cell_type": "code",
   "execution_count": 1,
   "metadata": {},
   "outputs": [],
   "source": [
    "from astropy.table import Table\n",
    "from astropy.time import Time\n",
    "from astropy import units as u\n",
    "from matplotlib import pyplot as plt\n",
    "%matplotlib inline"
   ]
  },
  {
   "cell_type": "markdown",
   "metadata": {},
   "source": [
    "## Merger time\n",
    "\n",
    "LIGO/Virgo merger time in UTC from [GCN 21513](https://gcn.gsfc.nasa.gov/gcn3/21513.gcn3)."
   ]
  },
  {
   "cell_type": "code",
   "execution_count": 2,
   "metadata": {},
   "outputs": [
    {
     "data": {
      "text/plain": [
       "'2017-08-17 12:41:04.443'"
      ]
     },
     "execution_count": 2,
     "metadata": {},
     "output_type": "execute_result"
    }
   ],
   "source": [
    "t0 = Time(1187008882.443, format='gps').utc\n",
    "t0.iso"
   ]
  },
  {
   "cell_type": "markdown",
   "metadata": {},
   "source": [
    "## Download photometry\n",
    "\n",
    "Retrieve the light curve from the [Open Kilonova Catalog](https://kilonova.space)."
   ]
  },
  {
   "cell_type": "code",
   "execution_count": 3,
   "metadata": {},
   "outputs": [
    {
     "name": "stdout",
     "output_type": "stream",
     "text": [
      "Downloading https://api.kilonova.space/GW170817/photometry/system+upperlimit+time+band+magnitude+e_magnitude?format=csv [Done]\n"
     ]
    },
    {
     "data": {
      "text/html": [
       "<i>Table masked=True length=616</i>\n",
       "<table id=\"table4576261176\" class=\"table-striped table-bordered table-condensed\">\n",
       "<thead><tr><th>band</th><th>magnitude</th><th>e_magnitude</th><th>time</th></tr></thead>\n",
       "<thead><tr><th></th><th>mag(AB)</th><th>mag(AB)</th><th>d</th></tr></thead>\n",
       "<thead><tr><th>str5</th><th>float64</th><th>float64</th><th>float64</th></tr></thead>\n",
       "<tr><td>i</td><td>17.48</td><td>0.02</td><td>0.45287635416</td></tr>\n",
       "<tr><td>H</td><td>18.26</td><td>0.15</td><td>0.461676354164</td></tr>\n",
       "<tr><td>r</td><td>17.46</td><td>0.03</td><td>0.464476354166</td></tr>\n",
       "<tr><td>Ks</td><td>18.62</td><td>0.05</td><td>0.470476354167</td></tr>\n",
       "<tr><td>J</td><td>17.83</td><td>0.15</td><td>0.471476354163</td></tr>\n",
       "<tr><td>V</td><td>17.35</td><td>0.02</td><td>0.471476354163</td></tr>\n",
       "<tr><td>r</td><td>17.33</td><td>0.02</td><td>0.471476354163</td></tr>\n",
       "<tr><td>z</td><td>17.67</td><td>0.03</td><td>0.471476354163</td></tr>\n",
       "<tr><td>i</td><td>17.4801307871</td><td>0.0252984934401</td><td>0.47453585417</td></tr>\n",
       "<tr><td>...</td><td>...</td><td>...</td><td>...</td></tr>\n",
       "<tr><td>Ks</td><td>20.81</td><td>0.13</td><td>18.4314763542</td></tr>\n",
       "<tr><td>K</td><td>20.76</td><td>0.35</td><td>18.4378263542</td></tr>\n",
       "<tr><td>K</td><td>20.84</td><td>0.26</td><td>18.4497749653</td></tr>\n",
       "<tr><td>Ks</td><td>21.04</td><td>0.09</td><td>18.4504763542</td></tr>\n",
       "<tr><td>Ks</td><td>20.93</td><td>0.17</td><td>18.4614763542</td></tr>\n",
       "<tr><td>Ks</td><td>20.85</td><td>0.13</td><td>19.4599953542</td></tr>\n",
       "<tr><td>Ks</td><td>21.23</td><td>0.37</td><td>19.4604763542</td></tr>\n",
       "<tr><td>z</td><td>23.37</td><td>0.48</td><td>19.4634763542</td></tr>\n",
       "<tr><td>Ks</td><td>21.46</td><td>0.08</td><td>21.4404763542</td></tr>\n",
       "<tr><td>Ks</td><td>22.06</td><td>0.22</td><td>25.4404763542</td></tr>\n",
       "</table>"
      ],
      "text/plain": [
       "<Table masked=True length=616>\n",
       "band   magnitude     e_magnitude        time     \n",
       "        mag(AB)        mag(AB)           d       \n",
       "str5    float64        float64        float64    \n",
       "---- ------------- --------------- --------------\n",
       "   i         17.48            0.02  0.45287635416\n",
       "   H         18.26            0.15 0.461676354164\n",
       "   r         17.46            0.03 0.464476354166\n",
       "  Ks         18.62            0.05 0.470476354167\n",
       "   J         17.83            0.15 0.471476354163\n",
       "   V         17.35            0.02 0.471476354163\n",
       "   r         17.33            0.02 0.471476354163\n",
       "   z         17.67            0.03 0.471476354163\n",
       "   i 17.4801307871 0.0252984934401  0.47453585417\n",
       " ...           ...             ...            ...\n",
       "  Ks         20.81            0.13  18.4314763542\n",
       "   K         20.76            0.35  18.4378263542\n",
       "   K         20.84            0.26  18.4497749653\n",
       "  Ks         21.04            0.09  18.4504763542\n",
       "  Ks         20.93            0.17  18.4614763542\n",
       "  Ks         20.85            0.13  19.4599953542\n",
       "  Ks         21.23            0.37  19.4604763542\n",
       "   z         23.37            0.48  19.4634763542\n",
       "  Ks         21.46            0.08  21.4404763542\n",
       "  Ks         22.06            0.22  25.4404763542"
      ]
     },
     "execution_count": 3,
     "metadata": {},
     "output_type": "execute_result"
    }
   ],
   "source": [
    "url = 'https://api.kilonova.space/GW170817/photometry/system+upperlimit+time+band+magnitude+e_magnitude?format=csv'\n",
    "photometry = Table.read(url, format='ascii')\n",
    "\n",
    "# Keep only data points that are in the AB magnitude system.\n",
    "photometry = photometry[photometry.columns.pop('system') == 'AB']\n",
    "\n",
    "# Keep only detections (no upper limits).\n",
    "photometry = photometry[photometry.columns.pop('upperlimit') == 'F']\n",
    "\n",
    "# Get rid of unfiltered observations (mostly MASTER).\n",
    "photometry = photometry[photometry['band'] != 'C']\n",
    "photometry = photometry[photometry['band'] != 'W']\n",
    "\n",
    "# Convert to time since merger.\n",
    "photometry['time'] = (np.asarray(photometry.columns.pop('time')).astype(float) - t0.mjd)\n",
    "\n",
    "# Add unit metadata to table.\n",
    "photometry['magnitude'].unit = photometry['e_magnitude'].unit = u.ABmag\n",
    "photometry['time'].unit = u.day\n",
    "\n",
    "# Show table.\n",
    "photometry"
   ]
  },
  {
   "cell_type": "markdown",
   "metadata": {},
   "source": [
    "## Plot the light curve in a few selected bands"
   ]
  },
  {
   "cell_type": "code",
   "execution_count": 4,
   "metadata": {},
   "outputs": [
    {
     "data": {
      "text/plain": [
       "Text(0,0.5,'apparent magnitude (AB)')"
      ]
     },
     "execution_count": 4,
     "metadata": {},
     "output_type": "execute_result"
    },
    {
     "data": {
      "image/png": "[encoded data removed]",
      "text/plain": [
       "<matplotlib.figure.Figure at 0x1103cf5c0>"
      ]
     },
     "metadata": {},
     "output_type": "display_data"
    }
   ],
   "source": [
    "ax = plt.axes()\n",
    "ax.invert_yaxis()\n",
    "for band in ['K', 'H', 'J', 'i', 'r', 'g', 'u']:\n",
    "    _ = photometry[photometry['band'] == band]\n",
    "    ax.plot(_['time'], _['magnitude'], '.', label=band)\n",
    "ax.legend()\n",
    "ax.set_xlabel('time since merger (days)')\n",
    "ax.set_ylabel('apparent magnitude (AB)')"
   ]
  },
  {
   "cell_type": "markdown",
   "metadata": {},
   "source": [
    "## Save as an ASCII file"
   ]
  },
  {
   "cell_type": "code",
   "execution_count": 5,
   "metadata": {},
   "outputs": [],
   "source": [
    "photometry.write('data/photometry.txt', format='ascii.ecsv', overwrite=True)"
   ]
  },
  {
   "cell_type": "code",
   "execution_count": null,
   "metadata": {},
   "outputs": [],
   "source": []
  }
 ],
 "metadata": {
  "kernelspec": {
   "display_name": "Python 3",
   "language": "python",
   "name": "python3"
  },
  "language_info": {
   "codemirror_mode": {
    "name": "ipython",
    "version": 3
   },
   "file_extension": ".py",
   "mimetype": "text/x-python",
   "name": "python",
   "nbconvert_exporter": "python",
   "pygments_lexer": "ipython3",
   "version": "3.6.4"
  }
 },
 "nbformat": 4,
 "nbformat_minor": 2
}
