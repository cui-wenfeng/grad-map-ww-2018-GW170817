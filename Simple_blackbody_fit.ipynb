{
 "cells": [
  {
   "cell_type": "code",
   "execution_count": 16,
   "metadata": {
    "collapsed": true
   },
   "outputs": [],
   "source": [
    "import numpy as np\n",
    "import matplotlib.pyplot as plt\n",
    "from astropy.io import fits\n",
    "import math\n",
    "from scipy.optimize import curve_fit\n",
    "import glob\n",
    "import os\n",
    "import os.path\n",
    "import matplotlib.backends.backend_pdf"
   ]
  },
  {
   "cell_type": "code",
   "execution_count": 17,
   "metadata": {},
   "outputs": [],
   "source": [
    "def black_body_flux(time, v, alpha, beta):\n",
    "    sigma = 5.67e-8 #watt/m2/K4\n",
    "    c = 2.98e8 #km/s\n",
    "    v = v*c\n",
    "    t_days = time/(3600.0*24.0)\n",
    "    Temp = 5000.0*alpha*np.power(t_days, -1.0*beta) # 5000 just to keep alpha within reasonable limits\n",
    "    \n",
    "    Flux= np.zeros_like(time)\n",
    "    Flux = sigma*np.pi*time*time*v*v*np.power(Temp, 4)\n",
    "    return Flux\n",
    "    "
   ]
  },
  {
   "cell_type": "code",
   "execution_count": 18,
   "metadata": {},
   "outputs": [],
   "source": [
    "f = open('Photometry_data.dat', 'r')\n",
    "mjd = []\n",
    "band = []\n",
    "fl = []\n",
    "efl = []\n",
    "mag = []\n",
    "dmag = []\n",
    "mag_bol = []\n",
    "\n",
    "for line in f.readlines():\n",
    "    row = line.strip()\n",
    "    if not row.startswith(\"#\"):\n",
    "        row = line.strip()\n",
    "        columns = row.split()\n",
    "        mjd.append(float(columns[0]))\n",
    "        band.append(columns[1])\n",
    "        fl.append(float(columns[2]))\n",
    "        efl.append(float(columns[3]))\n",
    "        mag.append(float(columns[4]))\n",
    "        dmag.append(float(columns[4]))\n",
    "        \n",
    "ind_g = []\n",
    "mag_g = []\n",
    "mjd_g = []\n",
    "for ind in range (0,len(band)-1):\n",
    "    if(band[ind] == 'g'):\n",
    "        ind_g.append(ind)\n",
    "        mag_g.append(mag[ind])\n",
    "        mjd_g.append(mjd[ind])\n",
    "        \n",
    "mag_g = np.array(mag_g)\n",
    "mjd_g = np.array(mjd_g)\n",
    "\n",
    "#mag_g = mag[ind_g]\n",
    "mag_bol = mag_g - 0.1*np.ones_like(mag_g)\n",
    "mag_bol_abs = mag_bol - 5.0*np.log10(4e7/10)\n",
    "L_bol = np.power(10, (mag_bol - 71.2*np.ones_like(mag_bol))/(-2.5) )\n",
    "#mjd_g = mjd[ind_g]\n",
    "days_g = mjd_g - 57983.0*np.ones_like(mjd_g)\n",
    "time = days_g*3600*24 # in seconds"
   ]
  },
  {
   "cell_type": "code",
   "execution_count": 19,
   "metadata": {},
   "outputs": [
    {
     "name": "stdout",
     "output_type": "stream",
     "text": [
      "[ 18.564  20.109  20.828  21.631  21.934  21.982  23.176]\n"
     ]
    }
   ],
   "source": [
    "print(mag_bol)"
   ]
  },
  {
   "cell_type": "code",
   "execution_count": 20,
   "metadata": {},
   "outputs": [],
   "source": [
    "#time = np.arange(0,13*3600*24, 1000)\n",
    "#v = 1e8 #m/s\n",
    "#T = 5000*np.ones_like(time) #K\n",
    "\n",
    "popt, pcov = curve_fit(black_body_flux, time, L_bol, bounds=(0, [0.9, 1e8, 10]))"
   ]
  },
  {
   "cell_type": "code",
   "execution_count": 21,
   "metadata": {},
   "outputs": [
    {
     "name": "stdout",
     "output_type": "stream",
     "text": [
      "[  2.14189680e-08   2.37988049e+00   9.90308447e-01]\n"
     ]
    }
   ],
   "source": [
    "print(popt)"
   ]
  },
  {
   "cell_type": "code",
   "execution_count": 23,
   "metadata": {},
   "outputs": [
    {
     "data": {
      "image/png": "[encoded data removed]",
      "text/plain": [
       "<matplotlib.figure.Figure at 0x7fbf34cdc940>"
      ]
     },
     "metadata": {},
     "output_type": "display_data"
    }
   ],
   "source": [
    "plt.plot(time/(3600*24), black_body_flux(time,*popt), 'b')\n",
    "plt.plot(time/(3600*24), L_bol, 'r*')\n",
    "\n",
    "plt.show()"
   ]
  },
  {
   "cell_type": "code",
   "execution_count": null,
   "metadata": {
    "collapsed": true
   },
   "outputs": [],
   "source": []
  }
 ],
 "metadata": {
  "kernelspec": {
   "display_name": "Python 3",
   "language": "python",
   "name": "python3"
  },
  "language_info": {
   "codemirror_mode": {
    "name": "ipython",
    "version": 3
   },
   "file_extension": ".py",
   "mimetype": "text/x-python",
   "name": "python",
   "nbconvert_exporter": "python",
   "pygments_lexer": "ipython3",
   "version": "3.6.2"
  }
 },
 "nbformat": 4,
 "nbformat_minor": 2
}
