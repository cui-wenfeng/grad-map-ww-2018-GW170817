{
 "cells": [
  {
   "cell_type": "markdown",
   "metadata": {},
   "source": [
    "# 3. Correct for Milky Way Extinction\n",
    "\n",
    "When we observe an extragalactic transient, absorption of light by the intervening interstellar dust grains in the Milky Way alters the observed spectrum. We can describe this effect as either *extinction*, which makes the source appear dimmer in any given band, or as *reddening*, a change in the color between two bands. We have to correct for this effect or *deredden* before we can analyze the data.\n",
    "\n",
    "The *total extinction* $A(\\lambda)$ at a wavelength $\\lambda$ is defined as the difference between the observed magnitude and the emitted or intrinsic magnitude in that band:\n",
    "\n",
    "$$ A(\\lambda) = m_\\mathrm{observed}(\\lambda) - m_\\mathrm{intrinsic}(\\lambda) $$\n",
    "\n",
    "The *selective extinction* is defined as the color change between two bands:\n",
    "\n",
    "$$ E(\\lambda_1 - \\lambda_2) = A(\\lambda_1) - A(\\lambda_2) $$\n",
    "\n",
    "It is found emperically that extinction along most lines of site is well fit by a family of curves parameterized by $R_V = A(V) / E(B - V)$. This curve is called an *extinction law*. A classic and commonly used extinction law is [Fitzpatrick (1999)](http://adsabs.harvard.edu/abs/1999PASP..111...63F), reproduced below.\n",
    "\n",
    "![Reddening image](http://cdn.iopscience.com/images/1538-3873/111/755/63/Full/fg1.jpg)\n",
    "\n",
    "In principle, both $R_V$ and $E(B - V)$ vary across the sky. In practice, we usually assume a fixed value of $R_V = 3.1$ which is the mean value for the Milky Way, and look up $E(B - V)$ from an online interstellar dust map.\n",
    "\n",
    "We will be using the handy [IRSA Dust Service](http://irsa.ipac.caltech.edu/applications/DUST/). We will be querying it using the even handier [Astroquery](https://astroquery.readthedocs.io/) Python package, which provides a Python interface for a large number of online astronomical data services. We will use the [Specutils](http://specutils.readthedocs.io/) Python package to evaluate the Fitzpatrick extinction law. (You may need to install both of these packages by running `pip install astroquery specutils`.)\n",
    "\n",
    "(In principle, if we have enough data and a sufficiently accurate model of the source spectrum, we could also fit for the reddening due to the transient's host galaxy.)"
   ]
  },
  {
   "cell_type": "markdown",
   "metadata": {},
   "source": [
    "## Imports"
   ]
  },
  {
   "cell_type": "code",
   "execution_count": 1,
   "metadata": {},
   "outputs": [],
   "source": [
    "# Third party Python packages\n",
    "from astropy import table\n",
    "from astropy import constants as c\n",
    "from astropy import units as u\n",
    "from astroquery.irsa_dust import IrsaDust\n",
    "from matplotlib import pyplot as plt\n",
    "import numpy as np\n",
    "from specutils.extinction import extinction_f99\n",
    "\n",
    "# IPython configuration:\n",
    "# Plots will appear inside the notebook\n",
    "# instead of in a new window.\n",
    "%matplotlib inline"
   ]
  },
  {
   "cell_type": "markdown",
   "metadata": {},
   "source": [
    "## Load our other data sets"
   ]
  },
  {
   "cell_type": "code",
   "execution_count": 2,
   "metadata": {},
   "outputs": [],
   "source": [
    "filters = table.Table.read('data/filters.ecsv', format='ascii.ecsv')\n",
    "photometry = table.Table.read('data/photometry.ecsv', format='ascii.ecsv')"
   ]
  },
  {
   "cell_type": "markdown",
   "metadata": {},
   "source": [
    "## Look up extinction by band"
   ]
  },
  {
   "cell_type": "markdown",
   "metadata": {},
   "source": [
    "Query the IRSA Dust service. We can actually ask for an extinction table by *band*..."
   ]
  },
  {
   "cell_type": "code",
   "execution_count": 3,
   "metadata": {},
   "outputs": [
    {
     "data": {
      "text/html": [
       "&lt;Table length=25&gt;\n",
       "<table id=\"table4672519416\" class=\"table-striped table-bordered table-condensed\">\n",
       "<thead><tr><th>Filter_name</th><th>LamEff</th><th>A_over_E_B_V_SandF</th><th>A_SandF</th><th>A_over_E_B_V_SFD</th><th>A_SFD</th></tr></thead>\n",
       "<thead><tr><th></th><th>microns</th><th></th><th>mags</th><th></th><th>mags</th></tr></thead>\n",
       "<thead><tr><th>str8</th><th>float64</th><th>float64</th><th>float64</th><th>float64</th><th>float64</th></tr></thead>\n",
       "<tr><td>CTIO U</td><td>0.3734</td><td>4.107</td><td>0.508</td><td>4.968</td><td>0.615</td></tr>\n",
       "<tr><td>CTIO B</td><td>0.4309</td><td>3.641</td><td>0.451</td><td>4.325</td><td>0.535</td></tr>\n",
       "<tr><td>CTIO V</td><td>0.5517</td><td>2.682</td><td>0.332</td><td>3.24</td><td>0.401</td></tr>\n",
       "<tr><td>CTIO R</td><td>0.652</td><td>2.119</td><td>0.262</td><td>2.634</td><td>0.326</td></tr>\n",
       "<tr><td>CTIO I</td><td>0.8007</td><td>1.516</td><td>0.188</td><td>1.962</td><td>0.243</td></tr>\n",
       "<tr><td>DSS-II g</td><td>0.4621</td><td>3.381</td><td>0.418</td><td>3.907</td><td>0.484</td></tr>\n",
       "<tr><td>DSS-II r</td><td>0.6546</td><td>2.088</td><td>0.258</td><td>2.649</td><td>0.328</td></tr>\n",
       "<tr><td>DSS-II i</td><td>0.8111</td><td>1.487</td><td>0.184</td><td>1.893</td><td>0.234</td></tr>\n",
       "<tr><td>SDSS u</td><td>0.3587</td><td>4.239</td><td>0.525</td><td>5.155</td><td>0.638</td></tr>\n",
       "<tr><td>...</td><td>...</td><td>...</td><td>...</td><td>...</td><td>...</td></tr>\n",
       "<tr><td>UKIRT K</td><td>2.19</td><td>0.302</td><td>0.037</td><td>0.367</td><td>0.045</td></tr>\n",
       "<tr><td>2MASS J</td><td>1.23</td><td>0.723</td><td>0.089</td><td>0.937</td><td>0.116</td></tr>\n",
       "<tr><td>2MASS H</td><td>1.64</td><td>0.46</td><td>0.057</td><td>0.591</td><td>0.073</td></tr>\n",
       "<tr><td>2MASS Ks</td><td>2.16</td><td>0.31</td><td>0.038</td><td>0.382</td><td>0.047</td></tr>\n",
       "<tr><td>IRAC-1</td><td>3.52</td><td>0.178</td><td>0.022</td><td>0.22</td><td>0.027</td></tr>\n",
       "<tr><td>IRAC-2</td><td>4.46</td><td>0.148</td><td>0.018</td><td>0.183</td><td>0.023</td></tr>\n",
       "<tr><td>IRAC-3</td><td>5.66</td><td>0.13</td><td>0.016</td><td>0.162</td><td>0.02</td></tr>\n",
       "<tr><td>IRAC-4</td><td>7.68</td><td>0.122</td><td>0.015</td><td>0.151</td><td>0.019</td></tr>\n",
       "<tr><td>WISE-1</td><td>3.32</td><td>0.189</td><td>0.023</td><td>0.234</td><td>0.029</td></tr>\n",
       "<tr><td>WISE-2</td><td>4.57</td><td>0.146</td><td>0.018</td><td>0.18</td><td>0.022</td></tr>\n",
       "</table>"
      ],
      "text/plain": [
       "<Table length=25>\n",
       "Filter_name  LamEff A_over_E_B_V_SandF A_SandF A_over_E_B_V_SFD  A_SFD \n",
       "            microns                      mags                     mags \n",
       "    str8    float64      float64       float64     float64      float64\n",
       "----------- ------- ------------------ ------- ---------------- -------\n",
       "     CTIO U  0.3734              4.107   0.508            4.968   0.615\n",
       "     CTIO B  0.4309              3.641   0.451            4.325   0.535\n",
       "     CTIO V  0.5517              2.682   0.332             3.24   0.401\n",
       "     CTIO R   0.652              2.119   0.262            2.634   0.326\n",
       "     CTIO I  0.8007              1.516   0.188            1.962   0.243\n",
       "   DSS-II g  0.4621              3.381   0.418            3.907   0.484\n",
       "   DSS-II r  0.6546              2.088   0.258            2.649   0.328\n",
       "   DSS-II i  0.8111              1.487   0.184            1.893   0.234\n",
       "     SDSS u  0.3587              4.239   0.525            5.155   0.638\n",
       "        ...     ...                ...     ...              ...     ...\n",
       "    UKIRT K    2.19              0.302   0.037            0.367   0.045\n",
       "    2MASS J    1.23              0.723   0.089            0.937   0.116\n",
       "    2MASS H    1.64               0.46   0.057            0.591   0.073\n",
       "   2MASS Ks    2.16               0.31   0.038            0.382   0.047\n",
       "     IRAC-1    3.52              0.178   0.022             0.22   0.027\n",
       "     IRAC-2    4.46              0.148   0.018            0.183   0.023\n",
       "     IRAC-3    5.66               0.13   0.016            0.162    0.02\n",
       "     IRAC-4    7.68              0.122   0.015            0.151   0.019\n",
       "     WISE-1    3.32              0.189   0.023            0.234   0.029\n",
       "     WISE-2    4.57              0.146   0.018             0.18   0.022"
      ]
     },
     "execution_count": 3,
     "metadata": {},
     "output_type": "execute_result"
    }
   ],
   "source": [
    "extinction_table = IrsaDust.get_extinction_table('NGC 4993')\n",
    "extinction_table"
   ]
  },
  {
   "cell_type": "markdown",
   "metadata": {},
   "source": [
    "Unfortunately, if we plot the extinction by wavelength, we will see that the table does not go to sufficiently short (blue) wavelengths for our data set, so we have to actually use the Fitzpatrick reddening law."
   ]
  },
  {
   "cell_type": "code",
   "execution_count": 4,
   "metadata": {},
   "outputs": [
    {
     "data": {
      "text/plain": [
       "<matplotlib.legend.Legend at 0x11689ff28>"
      ]
     },
     "execution_count": 4,
     "metadata": {},
     "output_type": "execute_result"
    },
    {
     "data": {
      "image/png": "[encoded data removed]",
      "text/plain": [
       "<matplotlib.figure.Figure at 0x115f3d128>"
      ]
     },
     "metadata": {},
     "output_type": "display_data"
    }
   ],
   "source": [
    "ax = plt.axes()\n",
    "ax.set_xscale('log')\n",
    "ax.set_xlabel('$\\lambda$ ($\\mathrm{\\mathring{A}}$)')\n",
    "ax.set_ylabel('$A(\\lambda)$')\n",
    "ax.plot(\n",
    "    (np.asarray(extinction_table['LamEff']) * u.micron).to(u.angstrom),\n",
    "    extinction_table['A_SandF'],\n",
    "    '.', label='IRSA extinction by band')\n",
    "ax.plot(\n",
    "    filters['wavelength'],\n",
    "    np.zeros_like(filters['wavelength']),\n",
    "    '|', label='Light curve filter wavelengths')\n",
    "ax.legend()"
   ]
  },
  {
   "cell_type": "markdown",
   "metadata": {},
   "source": [
    "## Look up reddening and use extinction law\n",
    "\n",
    "We will instead use the IRSA Dust service to look up the value of $E(B-V)$ in the direction of NGC 4993, and then evaluate the Fitzpatrick extinction law for each band using this value."
   ]
  },
  {
   "cell_type": "code",
   "execution_count": 5,
   "metadata": {},
   "outputs": [
    {
     "data": {
      "text/html": [
       "&lt;Table length=1&gt;\n",
       "<table id=\"table4673759888\" class=\"table-striped table-bordered table-condensed\">\n",
       "<thead><tr><th>RA</th><th>Dec</th><th>coord sys</th><th>regSize</th><th>ext desc</th><th>ext image</th><th>ext table</th><th>ext SandF ref</th><th>ext SandF ref RA</th><th>ext SandF ref Dec</th><th>ext SandF ref coord sys</th><th>ext SandF mean</th><th>ext SandF std</th><th>ext SandF max</th><th>ext SandF min</th><th>ext SFD ref</th><th>ext SFD ref RA</th><th>ext SFD ref Dec</th><th>ext SFD ref coord sys</th><th>ext SFD mean</th><th>ext SFD std</th><th>ext SFD max</th><th>ext SFD min</th><th>em desc</th><th>em image</th><th>em ref</th><th>em ref RA</th><th>em ref Dec</th><th>em ref coord sys</th><th>em mean</th><th>em std</th><th>em max</th><th>em min</th><th>temp desc</th><th>temp image</th><th>temp ref</th><th>temp ref RA</th><th>temp ref Dec</th><th>temp ref coord sys</th><th>temp mean</th><th>temp std</th><th>temp max</th><th>temp min</th></tr></thead>\n",
       "<thead><tr><th>deg</th><th>deg</th><th></th><th>deg</th><th></th><th></th><th></th><th></th><th>deg</th><th>deg</th><th></th><th></th><th></th><th></th><th></th><th></th><th>deg</th><th>deg</th><th></th><th></th><th></th><th></th><th></th><th></th><th></th><th></th><th>deg</th><th>deg</th><th></th><th></th><th></th><th></th><th></th><th></th><th></th><th></th><th>deg</th><th>deg</th><th></th><th></th><th></th><th></th><th></th></tr></thead>\n",
       "<thead><tr><th>float64</th><th>float64</th><th>bytes25</th><th>float64</th><th>bytes100</th><th>bytes255</th><th>bytes255</th><th>float64</th><th>float64</th><th>float64</th><th>bytes25</th><th>float64</th><th>float64</th><th>float64</th><th>float64</th><th>float64</th><th>float64</th><th>float64</th><th>bytes25</th><th>float64</th><th>float64</th><th>float64</th><th>float64</th><th>bytes100</th><th>bytes255</th><th>float64</th><th>float64</th><th>float64</th><th>bytes25</th><th>float64</th><th>float64</th><th>float64</th><th>float64</th><th>bytes100</th><th>bytes255</th><th>float64</th><th>float64</th><th>float64</th><th>bytes25</th><th>float64</th><th>float64</th><th>float64</th><th>float64</th></tr></thead>\n",
       "<tr><td>197.44875</td><td>-23.38389</td><td>equ J2000</td><td>5.0</td><td>E(B-V) Reddening</td><td>https://irsa.ipac.caltech.edu:443//workspace/TMP_GhvoXA_19318/DUST/NGC_4993.v0001/p146Dust.fits</td><td>https://irsa.ipac.caltech.edu:443//workspace/TMP_GhvoXA_19318/DUST/NGC_4993.v0001/extinction.tbl</td><td>0.1064</td><td>197.44875</td><td>-23.38389</td><td>equ J2000</td><td>0.1053</td><td>0.0012</td><td>0.1077</td><td>0.1032</td><td>0.1238</td><td>197.44875</td><td>-23.38389</td><td>equ J2000</td><td>0.1225</td><td>0.0014</td><td>0.1253</td><td>0.12</td><td>100 Micron Emission</td><td>https://irsa.ipac.caltech.edu:443//workspace/TMP_GhvoXA_19318/DUST/NGC_4993.v0001/p146i100.fits</td><td>6.3318</td><td>197.44875</td><td>-23.38389</td><td>equ J2000</td><td>6.2683</td><td>0.0919</td><td>6.4431</td><td>6.0881</td><td>Dust Temperature</td><td>https://irsa.ipac.caltech.edu:443//workspace/TMP_GhvoXA_19318/DUST/NGC_4993.v0001/p146temp.fits</td><td>18.0309</td><td>197.44875</td><td>-23.38389</td><td>equ J2000</td><td>18.038</td><td>0.0094</td><td>18.0668</td><td>18.0177</td></tr>\n",
       "</table>"
      ],
      "text/plain": [
       "<Table length=1>\n",
       "    RA       Dec    coord sys regSize ... temp mean temp std temp max temp min\n",
       "   deg       deg                deg   ...                                     \n",
       " float64   float64   bytes25  float64 ...  float64  float64  float64  float64 \n",
       "--------- --------- --------- ------- ... --------- -------- -------- --------\n",
       "197.44875 -23.38389 equ J2000     5.0 ...    18.038   0.0094  18.0668  18.0177"
      ]
     },
     "execution_count": 5,
     "metadata": {},
     "output_type": "execute_result"
    }
   ],
   "source": [
    "# Query IRSA dust service\n",
    "reddening_table = IrsaDust.get_query_table('NGC 4993')\n",
    "reddening_table"
   ]
  },
  {
   "cell_type": "markdown",
   "metadata": {},
   "source": [
    "Calculate extinction by band using the Fitzpatrick 1999 law."
   ]
  },
  {
   "cell_type": "code",
   "execution_count": 6,
   "metadata": {},
   "outputs": [],
   "source": [
    "rv = 3.1\n",
    "ebv = reddening_table['ext SandF mean']\n",
    "av = rv * ebv\n",
    "ext_f99 = extinction_f99(filters['wavelength'].quantity, a_v=av, r_v=rv)"
   ]
  },
  {
   "cell_type": "markdown",
   "metadata": {},
   "source": [
    "Let's plot the extinction calculated with Specutils to make sure that it matches the IRSA extinction by band."
   ]
  },
  {
   "cell_type": "code",
   "execution_count": 7,
   "metadata": {},
   "outputs": [
    {
     "data": {
      "text/plain": [
       "<matplotlib.legend.Legend at 0x117a1a908>"
      ]
     },
     "execution_count": 7,
     "metadata": {},
     "output_type": "execute_result"
    },
    {
     "data": {
      "image/png": "[encoded data removed]",
      "text/plain": [
       "<matplotlib.figure.Figure at 0x116906da0>"
      ]
     },
     "metadata": {},
     "output_type": "display_data"
    }
   ],
   "source": [
    "ax = plt.axes()\n",
    "ax.set_xscale('log')\n",
    "ax.set_xlabel('$\\lambda$ ($\\mathrm{\\mathring{A}}$)')\n",
    "ax.set_ylabel('$A(\\lambda)$')\n",
    "ax.plot(\n",
    "    (np.asarray(extinction_table['LamEff']) * u.micron).to(u.angstrom),\n",
    "    extinction_table['A_SandF'],\n",
    "    '.', label='IRSA extinction by band')\n",
    "ax.plot(\n",
    "    filters['wavelength'],\n",
    "    ext_f99, marker='.',\n",
    "    label='IRSA E(B - V) + Specutils extinction law')\n",
    "ax.legend()"
   ]
  },
  {
   "cell_type": "markdown",
   "metadata": {},
   "source": [
    "Looks spiffy. Let's turn that into an Astropy table!"
   ]
  },
  {
   "cell_type": "code",
   "execution_count": 8,
   "metadata": {},
   "outputs": [
    {
     "data": {
      "text/html": [
       "&lt;Table length=30&gt;\n",
       "<table id=\"table4691340200\" class=\"table-striped table-bordered table-condensed\">\n",
       "<thead><tr><th>band</th><th>extinction</th></tr></thead>\n",
       "<thead><tr><th></th><th>mag</th></tr></thead>\n",
       "<thead><tr><th>str5</th><th>float64</th></tr></thead>\n",
       "<tr><td>W2</td><td>0.860877846971</td></tr>\n",
       "<tr><td>M2</td><td>0.965626487464</td></tr>\n",
       "<tr><td>W1</td><td>0.69219771359</td></tr>\n",
       "<tr><td>F336W</td><td>0.531568336855</td></tr>\n",
       "<tr><td>U</td><td>0.520098465337</td></tr>\n",
       "<tr><td>u</td><td>0.508545977833</td></tr>\n",
       "<tr><td>B</td><td>0.430081621344</td></tr>\n",
       "<tr><td>g</td><td>0.397580726843</td></tr>\n",
       "<tr><td>F475W</td><td>0.3904746349</td></tr>\n",
       "<tr><td>...</td><td>...</td></tr>\n",
       "<tr><td>F850W</td><td>0.14547836779</td></tr>\n",
       "<tr><td>y</td><td>0.134320913536</td></tr>\n",
       "<tr><td>Y</td><td>0.126527334612</td></tr>\n",
       "<tr><td>J1</td><td>0.112147841625</td></tr>\n",
       "<tr><td>F110W</td><td>0.0963535807339</td></tr>\n",
       "<tr><td>J</td><td>0.0834028432374</td></tr>\n",
       "<tr><td>F160W</td><td>0.059625373419</td></tr>\n",
       "<tr><td>H</td><td>0.0547618589251</td></tr>\n",
       "<tr><td>K</td><td>0.0365631100577</td></tr>\n",
       "<tr><td>Ks</td><td>0.0365631100577</td></tr>\n",
       "</table>"
      ],
      "text/plain": [
       "<Table length=30>\n",
       " band    extinction  \n",
       "            mag      \n",
       " str5     float64    \n",
       "----- ---------------\n",
       "   W2  0.860877846971\n",
       "   M2  0.965626487464\n",
       "   W1   0.69219771359\n",
       "F336W  0.531568336855\n",
       "    U  0.520098465337\n",
       "    u  0.508545977833\n",
       "    B  0.430081621344\n",
       "    g  0.397580726843\n",
       "F475W    0.3904746349\n",
       "  ...             ...\n",
       "F850W   0.14547836779\n",
       "    y  0.134320913536\n",
       "    Y  0.126527334612\n",
       "   J1  0.112147841625\n",
       "F110W 0.0963535807339\n",
       "    J 0.0834028432374\n",
       "F160W  0.059625373419\n",
       "    H 0.0547618589251\n",
       "    K 0.0365631100577\n",
       "   Ks 0.0365631100577"
      ]
     },
     "execution_count": 8,
     "metadata": {},
     "output_type": "execute_result"
    }
   ],
   "source": [
    "extinction = table.Table(\n",
    "    [filters['band'], ext_f99],\n",
    "    names=['band', 'extinction'])\n",
    "extinction['extinction'].unit = u.mag\n",
    "extinction"
   ]
  },
  {
   "cell_type": "markdown",
   "metadata": {},
   "source": [
    "## Convert from magnitudes to flux density"
   ]
  },
  {
   "cell_type": "markdown",
   "metadata": {},
   "source": [
    "Last, we are going to de-redden the observations.\n",
    "\n",
    "We will need to combine all three of our tables (`photometry`, `filters`, and `extinction`). Astropy has a handy [`join` method](http://docs.astropy.org/en/stable/table/operations.html#join) that combines two tables by matching together rows with equal values of specified columns (by default, columns that appear in both tables). This is similar to a [`join` operation in SQL](https://en.wikipedia.org/wiki/Join_(SQL)."
   ]
  },
  {
   "cell_type": "code",
   "execution_count": 9,
   "metadata": {},
   "outputs": [
    {
     "data": {
      "text/html": [
       "&lt;Table masked=True length=616&gt;\n",
       "<table id=\"table4691366688\" class=\"table-striped table-bordered table-condensed\">\n",
       "<thead><tr><th>telescope</th><th>instrument</th><th>band</th><th>time</th><th>magnitude</th><th>e_magnitude</th><th>wavelength</th><th>extinction</th></tr></thead>\n",
       "<thead><tr><th></th><th></th><th></th><th>d</th><th>mag</th><th>mag</th><th>Angstrom</th><th>mag</th></tr></thead>\n",
       "<thead><tr><th>str10</th><th>str11</th><th>str5</th><th>float64</th><th>float64</th><th>float64</th><th>float64</th><th>float64</th></tr></thead>\n",
       "<tr><td>SSO</td><td>--</td><td>B</td><td>1.82999535417</td><td>20.1</td><td>0.12</td><td>4371.22288257</td><td>0.430081621344</td></tr>\n",
       "<tr><td>Magellan</td><td>LDSS</td><td>B</td><td>4.49317635416</td><td>22.52</td><td>0.14</td><td>4371.22288257</td><td>0.430081621344</td></tr>\n",
       "<tr><td>Magellan</td><td>LDSS</td><td>B</td><td>7.50167635417</td><td>23.85</td><td>0.31</td><td>4371.22288257</td><td>0.430081621344</td></tr>\n",
       "<tr><td>VLT</td><td>FORS2</td><td>B</td><td>6.49147635416</td><td>23.807</td><td>0.251</td><td>4371.22288257</td><td>0.430081621344</td></tr>\n",
       "<tr><td>CTIO</td><td>--</td><td>B</td><td>1.45999535416</td><td>19.09</td><td>0.11</td><td>4371.22288257</td><td>0.430081621344</td></tr>\n",
       "<tr><td>SAAO</td><td>--</td><td>B</td><td>1.18999535417</td><td>18.47</td><td>0.11</td><td>4371.22288257</td><td>0.430081621344</td></tr>\n",
       "<tr><td>VLT</td><td>FORS2</td><td>B</td><td>4.49147635416</td><td>22.729</td><td>0.128</td><td>4371.22288257</td><td>0.430081621344</td></tr>\n",
       "<tr><td>SAAO</td><td>--</td><td>B</td><td>2.18999535417</td><td>20.45</td><td>0.09</td><td>4371.22288257</td><td>0.430081621344</td></tr>\n",
       "<tr><td>CTIO</td><td>--</td><td>B</td><td>2.44999535416</td><td>20.82</td><td>0.1</td><td>4371.22288257</td><td>0.430081621344</td></tr>\n",
       "<tr><td>...</td><td>...</td><td>...</td><td>...</td><td>...</td><td>...</td><td>...</td><td>...</td></tr>\n",
       "<tr><td>LaSilla</td><td>GROND</td><td>z</td><td>4.44573635417</td><td>19.07</td><td>0.06</td><td>8781.68805804</td><td>0.154177139825</td></tr>\n",
       "<tr><td>LaSilla</td><td>GROND</td><td>z</td><td>2.44039635417</td><td>18.33</td><td>0.06</td><td>8781.68805804</td><td>0.154177139825</td></tr>\n",
       "<tr><td>--</td><td>DECam</td><td>z</td><td>9.46591745417</td><td>21.1883773121</td><td>0.0697123513511</td><td>8781.68805804</td><td>0.154177139825</td></tr>\n",
       "<tr><td>VLT</td><td>FORS</td><td>z</td><td>9.46247635417</td><td>20.69</td><td>0.11</td><td>8781.68805804</td><td>0.154177139825</td></tr>\n",
       "<tr><td>VLT</td><td>FORS2</td><td>z</td><td>10.4514763542</td><td>22.014</td><td>0.214</td><td>8781.68805804</td><td>0.154177139825</td></tr>\n",
       "<tr><td>LCO 1m</td><td>Sinistro</td><td>z</td><td>2.22247635416</td><td>18.25</td><td>0.3</td><td>8781.68805804</td><td>0.154177139825</td></tr>\n",
       "<tr><td>--</td><td>DECam</td><td>z</td><td>10.4582508542</td><td>22.0612285601</td><td>0.128558273522</td><td>8781.68805804</td><td>0.154177139825</td></tr>\n",
       "<tr><td>LCO 1m</td><td>Sinistro</td><td>z</td><td>2.45347635417</td><td>18.19</td><td>0.2</td><td>8781.68805804</td><td>0.154177139825</td></tr>\n",
       "<tr><td>Magellan</td><td>LDSS</td><td>z</td><td>8.44347635417</td><td>20.4</td><td>0.07</td><td>8781.68805804</td><td>0.154177139825</td></tr>\n",
       "<tr><td>--</td><td>DECam</td><td>z</td><td>4.44914365416</td><td>18.8080891149</td><td>0.0269513616356</td><td>8781.68805804</td><td>0.154177139825</td></tr>\n",
       "</table>"
      ],
      "text/plain": [
       "<Table masked=True length=616>\n",
       "telescope instrument band ...   e_magnitude     wavelength    extinction  \n",
       "                          ...       mag          Angstrom        mag      \n",
       "  str10     str11    str5 ...     float64        float64       float64    \n",
       "--------- ---------- ---- ... --------------- ------------- --------------\n",
       "      SSO         --    B ...            0.12 4371.22288257 0.430081621344\n",
       " Magellan       LDSS    B ...            0.14 4371.22288257 0.430081621344\n",
       " Magellan       LDSS    B ...            0.31 4371.22288257 0.430081621344\n",
       "      VLT      FORS2    B ...           0.251 4371.22288257 0.430081621344\n",
       "     CTIO         --    B ...            0.11 4371.22288257 0.430081621344\n",
       "     SAAO         --    B ...            0.11 4371.22288257 0.430081621344\n",
       "      VLT      FORS2    B ...           0.128 4371.22288257 0.430081621344\n",
       "     SAAO         --    B ...            0.09 4371.22288257 0.430081621344\n",
       "     CTIO         --    B ...             0.1 4371.22288257 0.430081621344\n",
       "      ...        ...  ... ...             ...           ...            ...\n",
       "  LaSilla      GROND    z ...            0.06 8781.68805804 0.154177139825\n",
       "  LaSilla      GROND    z ...            0.06 8781.68805804 0.154177139825\n",
       "       --      DECam    z ... 0.0697123513511 8781.68805804 0.154177139825\n",
       "      VLT       FORS    z ...            0.11 8781.68805804 0.154177139825\n",
       "      VLT      FORS2    z ...           0.214 8781.68805804 0.154177139825\n",
       "   LCO 1m   Sinistro    z ...             0.3 8781.68805804 0.154177139825\n",
       "       --      DECam    z ...  0.128558273522 8781.68805804 0.154177139825\n",
       "   LCO 1m   Sinistro    z ...             0.2 8781.68805804 0.154177139825\n",
       " Magellan       LDSS    z ...            0.07 8781.68805804 0.154177139825\n",
       "       --      DECam    z ... 0.0269513616356 8781.68805804 0.154177139825"
      ]
     },
     "execution_count": 9,
     "metadata": {},
     "output_type": "execute_result"
    }
   ],
   "source": [
    "data = table.join(photometry, filters)\n",
    "data = table.join(data, extinction)\n",
    "data"
   ]
  },
  {
   "cell_type": "markdown",
   "metadata": {},
   "source": [
    "Now correct the magnitudes for extinction."
   ]
  },
  {
   "cell_type": "code",
   "execution_count": 10,
   "metadata": {},
   "outputs": [],
   "source": [
    "dereddened_magnitude = data.columns.pop('magnitude') - data.columns.pop('extinction')"
   ]
  },
  {
   "cell_type": "markdown",
   "metadata": {},
   "source": [
    "At this time, we will also convert the dataset from magnitudes, which are convenient for observations, to flux densities, which are physical units that are more natural for analysis."
   ]
  },
  {
   "cell_type": "code",
   "execution_count": 11,
   "metadata": {},
   "outputs": [],
   "source": [
    "data['fluxdensity'] = (dereddened_magnitude * u.ABmag).to(u.mJy)"
   ]
  },
  {
   "cell_type": "markdown",
   "metadata": {},
   "source": [
    "We need to convert the error bars from magnitudes to flux density using propagation of errors. Recall that if you have a quantities $x$ and $y$ with uncertainties $\\sigma_x$ and $\\sigma_y$, then the uncertainty in $z = f(x, y)$ is\n",
    "\n",
    "$$\n",
    "    \\sigma_z = \\sqrt{\\left(\\frac{\\partial f(x,y)}{\\partial x} \\sigma_x\\right)^2 + \\left(\\frac{\\partial f(x,y)}{\\partial y} \\sigma_y\\right)^2}.\n",
    "$$\n",
    "\n",
    "Since we know that\n",
    "\n",
    "$$\n",
    "    m(AB) = -2.5 \\log_{10} \\left( \\frac{F_\\nu}{3631\\,\\mathrm{Jy}} \\right)\n",
    "$$\n",
    "\n",
    "and\n",
    "\n",
    "$$\n",
    "    F_\\nu = 10^{-0.4 \\, m(AB)} \\cdot (3631 \\, \\mathrm{Jy}),\n",
    "$$\n",
    "\n",
    "we find that\n",
    "\n",
    "$$\n",
    "    \\sigma_{F_\\nu} = \\frac{\\ln 10}{2.5} \\sigma_{m(AB)} F_\\nu.\n",
    "$$"
   ]
  },
  {
   "cell_type": "code",
   "execution_count": 12,
   "metadata": {},
   "outputs": [],
   "source": [
    "data['e_fluxdensity'] = np.log(10) / 2.5 * data['fluxdensity'].quantity * data.columns.pop('e_magnitude') / u.mag"
   ]
  },
  {
   "cell_type": "markdown",
   "metadata": {},
   "source": [
    "Lastly, let's convert from wavelength to frequency (the more natural choice since we are using the flux density per unit *frequency* $F_\\nu$ rather than the flux density per unit *wavelength* $F_\\lambda$). We can do this using $c = \\nu \\lambda$:"
   ]
  },
  {
   "cell_type": "code",
   "execution_count": 13,
   "metadata": {},
   "outputs": [
    {
     "data": {
      "text/latex": [
       "$[6.8583201 \\times 10^{14},~6.8583201 \\times 10^{14},~6.8583201 \\times 10^{14},~\\dots, 3.4138363 \\times 10^{14},~3.4138363 \\times 10^{14},~3.4138363 \\times 10^{14}] \\; \\mathrm{Hz}$"
      ],
      "text/plain": [
       "<Quantity [  6.85832011e+14,  6.85832011e+14,  6.85832011e+14,\n",
       "             6.85832011e+14,  6.85832011e+14,  6.85832011e+14,\n",
       "             6.85832011e+14,  6.85832011e+14,  6.85832011e+14,\n",
       "             6.85832011e+14,  6.85832011e+14,  6.85832011e+14,\n",
       "             6.85832011e+14,  6.85832011e+14,  6.85832011e+14,\n",
       "             2.60348033e+14,  2.60348033e+14,  2.60348033e+14,\n",
       "             2.60348033e+14,  2.60348033e+14,  2.60348033e+14,\n",
       "             2.60348033e+14,  1.94253218e+14,  1.94253218e+14,\n",
       "             1.94253218e+14,  1.94253218e+14,  1.94253218e+14,\n",
       "             1.94253218e+14,  1.94253218e+14,  8.90030101e+14,\n",
       "             8.90030101e+14,  8.90030101e+14,  8.90030101e+14,\n",
       "             6.28736000e+14,  6.28736000e+14,  6.28736000e+14,\n",
       "             6.28736000e+14,  6.28736000e+14,  6.28736000e+14,\n",
       "             6.28736000e+14,  5.04578916e+14,  5.04578916e+14,\n",
       "             5.04578916e+14,  5.04578916e+14,  4.77840083e+14,\n",
       "             3.88076248e+14,  3.83650295e+14,  3.83650295e+14,\n",
       "             3.30083352e+14,  1.83819022e+14,  1.83819022e+14,\n",
       "             1.83819022e+14,  1.83819022e+14,  1.83819022e+14,\n",
       "             1.83819022e+14,  1.83819022e+14,  1.83819022e+14,\n",
       "             1.83819022e+14,  1.83819022e+14,  1.83819022e+14,\n",
       "             1.83819022e+14,  1.83819022e+14,  1.83819022e+14,\n",
       "             1.83819022e+14,  1.83819022e+14,  1.83819022e+14,\n",
       "             1.83819022e+14,  1.83819022e+14,  1.83819022e+14,\n",
       "             1.83819022e+14,  1.83819022e+14,  1.83819022e+14,\n",
       "             1.83819022e+14,  1.83819022e+14,  1.83819022e+14,\n",
       "             1.83819022e+14,  1.83819022e+14,  1.83819022e+14,\n",
       "             1.83819022e+14,  1.83819022e+14,  1.83819022e+14,\n",
       "             1.83819022e+14,  1.83819022e+14,  1.83819022e+14,\n",
       "             1.83819022e+14,  1.83819022e+14,  1.83819022e+14,\n",
       "             1.83819022e+14,  1.83819022e+14,  1.83819022e+14,\n",
       "             1.83819022e+14,  1.83819022e+14,  1.83819022e+14,\n",
       "             1.83819022e+14,  1.83819022e+14,  1.83819022e+14,\n",
       "             3.83286344e+14,  3.83286344e+14,  3.83286344e+14,\n",
       "             3.83286344e+14,  3.83286344e+14,  3.83286344e+14,\n",
       "             3.83286344e+14,  3.83286344e+14,  3.83286344e+14,\n",
       "             3.83286344e+14,  3.83286344e+14,  3.83286344e+14,\n",
       "             3.83286344e+14,  3.83286344e+14,  3.83286344e+14,\n",
       "             3.83286344e+14,  3.83286344e+14,  3.83286344e+14,\n",
       "             3.83286344e+14,  3.83286344e+14,  3.83286344e+14,\n",
       "             3.83286344e+14,  3.83286344e+14,  3.83286344e+14,\n",
       "             3.83286344e+14,  2.39114850e+14,  2.39114850e+14,\n",
       "             2.39114850e+14,  2.39114850e+14,  2.39114850e+14,\n",
       "             2.39114850e+14,  2.39114850e+14,  2.39114850e+14,\n",
       "             2.39114850e+14,  2.39114850e+14,  2.39114850e+14,\n",
       "             2.39114850e+14,  2.39114850e+14,  2.39114850e+14,\n",
       "             2.39114850e+14,  2.39114850e+14,  2.39114850e+14,\n",
       "             2.39114850e+14,  2.39114850e+14,  2.39114850e+14,\n",
       "             2.39114850e+14,  2.39114850e+14,  2.39114850e+14,\n",
       "             2.39114850e+14,  2.39114850e+14,  2.39114850e+14,\n",
       "             2.39114850e+14,  2.39114850e+14,  2.39114850e+14,\n",
       "             2.39114850e+14,  2.39114850e+14,  2.39114850e+14,\n",
       "             2.39114850e+14,  2.39114850e+14,  2.39114850e+14,\n",
       "             2.39114850e+14,  2.39114850e+14,  2.39114850e+14,\n",
       "             2.39114850e+14,  2.39114850e+14,  2.39114850e+14,\n",
       "             2.39114850e+14,  2.39114850e+14,  2.39114850e+14,\n",
       "             2.84224664e+14,  2.84224664e+14,  1.39069259e+14,\n",
       "             1.39069259e+14,  1.39069259e+14,  1.39069259e+14,\n",
       "             1.39069259e+14,  1.39069259e+14,  1.39069259e+14,\n",
       "             1.39069259e+14,  1.39069259e+14,  1.39069259e+14,\n",
       "             1.39069259e+14,  1.39069259e+14,  1.39069259e+14,\n",
       "             1.39069259e+14,  1.39069259e+14,  1.39069259e+14,\n",
       "             1.39069259e+14,  1.39069259e+14,  1.39069259e+14,\n",
       "             1.39069259e+14,  1.39069259e+14,  1.39069259e+14,\n",
       "             1.39069259e+14,  1.39069259e+14,  1.39069259e+14,\n",
       "             1.39069259e+14,  1.39069259e+14,  1.39069259e+14,\n",
       "             1.39069259e+14,  1.39069259e+14,  1.39069259e+14,\n",
       "             1.39069259e+14,  1.39069259e+14,  1.39069259e+14,\n",
       "             1.39069259e+14,  1.39069259e+14,  1.39069259e+14,\n",
       "             1.39069259e+14,  1.39069259e+14,  1.39069259e+14,\n",
       "             1.39069259e+14,  1.39069259e+14,  1.39069259e+14,\n",
       "             1.39069259e+14,  1.39069259e+14,  1.39069259e+14,\n",
       "             1.39069259e+14,  1.39069259e+14,  1.39069259e+14,\n",
       "             1.39069259e+14,  1.39069259e+14,  1.39069259e+14,\n",
       "             1.39069259e+14,  1.39069259e+14,  1.39069259e+14,\n",
       "             1.39069259e+14,  1.39069259e+14,  1.39069259e+14,\n",
       "             1.39069259e+14,  1.39069259e+14,  1.39069259e+14,\n",
       "             1.39069259e+14,  1.39069259e+14,  1.39069259e+14,\n",
       "             1.39069259e+14,  1.39069259e+14,  1.39069259e+14,\n",
       "             1.39069259e+14,  1.39069259e+14,  1.39069259e+14,\n",
       "             1.39069259e+14,  1.39069259e+14,  1.39069259e+14,\n",
       "             1.39069259e+14,  1.39069259e+14,  1.39069259e+14,\n",
       "             1.39069259e+14,  1.39069259e+14,  1.39069259e+14,\n",
       "             1.39069259e+14,  1.39069259e+14,  1.39069259e+14,\n",
       "             1.39069259e+14,  1.39069259e+14,  1.33478176e+15,\n",
       "             1.33478176e+15,  4.67423087e+14,  4.67423087e+14,\n",
       "             4.67423087e+14,  4.67423087e+14,  4.67423087e+14,\n",
       "             4.67423087e+14,  4.67423087e+14,  4.67423087e+14,\n",
       "             4.67423087e+14,  4.67423087e+14,  4.67423087e+14,\n",
       "             4.67423087e+14,  4.67423087e+14,  4.67423087e+14,\n",
       "             4.67423087e+14,  4.67423087e+14,  4.67423087e+14,\n",
       "             4.67423087e+14,  4.67423087e+14,  4.67423087e+14,\n",
       "             8.65665384e+14,  8.65665384e+14,  8.65665384e+14,\n",
       "             8.65665384e+14,  8.65665384e+14,  8.65665384e+14,\n",
       "             8.65665384e+14,  8.65665384e+14,  8.65665384e+14,\n",
       "             8.65665384e+14,  5.50967640e+14,  5.50967640e+14,\n",
       "             5.50967640e+14,  5.50967640e+14,  5.50967640e+14,\n",
       "             5.50967640e+14,  5.50967640e+14,  5.50967640e+14,\n",
       "             5.50967640e+14,  5.50967640e+14,  5.50967640e+14,\n",
       "             5.50967640e+14,  5.50967640e+14,  5.50967640e+14,\n",
       "             5.50967640e+14,  5.50967640e+14,  5.50967640e+14,\n",
       "             5.50967640e+14,  5.50967640e+14,  5.50967640e+14,\n",
       "             5.50967640e+14,  5.50967640e+14,  5.50967640e+14,\n",
       "             5.50967640e+14,  5.50967640e+14,  5.50967640e+14,\n",
       "             5.50967640e+14,  5.50967640e+14,  1.15102514e+15,\n",
       "             1.15102514e+15,  1.54434971e+15,  3.04606126e+14,\n",
       "             3.04606126e+14,  3.04606126e+14,  3.04606126e+14,\n",
       "             3.04606126e+14,  3.04606126e+14,  3.04606126e+14,\n",
       "             3.04606126e+14,  3.04606126e+14,  3.04606126e+14,\n",
       "             3.04606126e+14,  3.04606126e+14,  3.04606126e+14,\n",
       "             3.04606126e+14,  3.04606126e+14,  3.04606126e+14,\n",
       "             3.04606126e+14,  3.04606126e+14,  3.04606126e+14,\n",
       "             3.04606126e+14,  3.04606126e+14,  6.37811617e+14,\n",
       "             6.37811617e+14,  6.37811617e+14,  6.37811617e+14,\n",
       "             6.37811617e+14,  6.37811617e+14,  6.37811617e+14,\n",
       "             6.37811617e+14,  6.37811617e+14,  6.37811617e+14,\n",
       "             6.37811617e+14,  6.37811617e+14,  6.37811617e+14,\n",
       "             6.37811617e+14,  6.37811617e+14,  6.37811617e+14,\n",
       "             6.37811617e+14,  6.37811617e+14,  6.37811617e+14,\n",
       "             6.37811617e+14,  6.37811617e+14,  6.37811617e+14,\n",
       "             6.37811617e+14,  6.37811617e+14,  6.37811617e+14,\n",
       "             6.37811617e+14,  6.37811617e+14,  6.37811617e+14,\n",
       "             6.37811617e+14,  6.37811617e+14,  6.37811617e+14,\n",
       "             6.37811617e+14,  6.37811617e+14,  6.37811617e+14,\n",
       "             6.37811617e+14,  6.37811617e+14,  6.37811617e+14,\n",
       "             6.37811617e+14,  6.37811617e+14,  6.37811617e+14,\n",
       "             6.37811617e+14,  6.37811617e+14,  6.37811617e+14,\n",
       "             6.37811617e+14,  6.37811617e+14,  6.37811617e+14,\n",
       "             6.37811617e+14,  6.37811617e+14,  6.37811617e+14,\n",
       "             6.37811617e+14,  6.37811617e+14,  6.37811617e+14,\n",
       "             3.97938912e+14,  3.97938912e+14,  3.97938912e+14,\n",
       "             3.97938912e+14,  3.97938912e+14,  3.97938912e+14,\n",
       "             3.97938912e+14,  3.97938912e+14,  3.97938912e+14,\n",
       "             3.97938912e+14,  3.97938912e+14,  3.97938912e+14,\n",
       "             3.97938912e+14,  3.97938912e+14,  3.97938912e+14,\n",
       "             3.97938912e+14,  3.97938912e+14,  3.97938912e+14,\n",
       "             3.97938912e+14,  3.97938912e+14,  3.97938912e+14,\n",
       "             3.97938912e+14,  3.97938912e+14,  3.97938912e+14,\n",
       "             3.97938912e+14,  3.97938912e+14,  3.97938912e+14,\n",
       "             3.97938912e+14,  3.97938912e+14,  3.97938912e+14,\n",
       "             3.97938912e+14,  3.97938912e+14,  3.97938912e+14,\n",
       "             3.97938912e+14,  3.97938912e+14,  3.97938912e+14,\n",
       "             3.97938912e+14,  3.97938912e+14,  3.97938912e+14,\n",
       "             3.97938912e+14,  3.97938912e+14,  3.97938912e+14,\n",
       "             3.97938912e+14,  3.97938912e+14,  3.97938912e+14,\n",
       "             3.97938912e+14,  3.97938912e+14,  3.97938912e+14,\n",
       "             3.97938912e+14,  3.97938912e+14,  3.97938912e+14,\n",
       "             3.97938912e+14,  3.97938912e+14,  3.97938912e+14,\n",
       "             3.97938912e+14,  3.97938912e+14,  3.97938912e+14,\n",
       "             3.97938912e+14,  3.97938912e+14,  3.97938912e+14,\n",
       "             3.97938912e+14,  3.97938912e+14,  3.97938912e+14,\n",
       "             3.97938912e+14,  3.97938912e+14,  3.97938912e+14,\n",
       "             4.85534389e+14,  4.85534389e+14,  4.85534389e+14,\n",
       "             4.85534389e+14,  4.85534389e+14,  4.85534389e+14,\n",
       "             4.85534389e+14,  4.85534389e+14,  4.85534389e+14,\n",
       "             4.85534389e+14,  4.85534389e+14,  4.85534389e+14,\n",
       "             4.85534389e+14,  4.85534389e+14,  4.85534389e+14,\n",
       "             4.85534389e+14,  4.85534389e+14,  4.85534389e+14,\n",
       "             4.85534389e+14,  4.85534389e+14,  4.85534389e+14,\n",
       "             4.85534389e+14,  4.85534389e+14,  4.85534389e+14,\n",
       "             4.85534389e+14,  4.85534389e+14,  4.85534389e+14,\n",
       "             4.85534389e+14,  4.85534389e+14,  4.85534389e+14,\n",
       "             4.85534389e+14,  4.85534389e+14,  4.85534389e+14,\n",
       "             4.85534389e+14,  4.85534389e+14,  4.85534389e+14,\n",
       "             4.85534389e+14,  4.85534389e+14,  4.85534389e+14,\n",
       "             4.85534389e+14,  4.85534389e+14,  4.85534389e+14,\n",
       "             4.85534389e+14,  4.85534389e+14,  4.85534389e+14,\n",
       "             4.85534389e+14,  4.85534389e+14,  4.85534389e+14,\n",
       "             4.85534389e+14,  4.85534389e+14,  4.85534389e+14,\n",
       "             4.85534389e+14,  4.85534389e+14,  4.85534389e+14,\n",
       "             4.85534389e+14,  4.85534389e+14,  4.85534389e+14,\n",
       "             4.85534389e+14,  4.85534389e+14,  4.85534389e+14,\n",
       "             4.85534389e+14,  4.85534389e+14,  4.85534389e+14,\n",
       "             4.85534389e+14,  4.85534389e+14,  4.85534389e+14,\n",
       "             4.85534389e+14,  4.85534389e+14,  4.85534389e+14,\n",
       "             4.85534389e+14,  4.85534389e+14,  4.85534389e+14,\n",
       "             4.85534389e+14,  4.85534389e+14,  4.85534389e+14,\n",
       "             4.85534389e+14,  4.85534389e+14,  4.85534389e+14,\n",
       "             4.85534389e+14,  4.85534389e+14,  4.85534389e+14,\n",
       "             4.85534389e+14,  4.85534389e+14,  4.85534389e+14,\n",
       "             4.85534389e+14,  4.85534389e+14,  8.40919667e+14,\n",
       "             8.40919667e+14,  8.40919667e+14,  4.80914281e+14,\n",
       "             4.80914281e+14,  4.80914281e+14,  4.80914281e+14,\n",
       "             4.80914281e+14,  4.80914281e+14,  4.80914281e+14,\n",
       "             4.80914281e+14,  4.80914281e+14,  4.80914281e+14,\n",
       "             4.80914281e+14,  4.80914281e+14,  4.80914281e+14,\n",
       "             4.80914281e+14,  4.80914281e+14,  4.80914281e+14,\n",
       "             4.80914281e+14,  4.80914281e+14,  3.15245940e+14,\n",
       "             3.15245940e+14,  3.15245940e+14,  3.15245940e+14,\n",
       "             3.15245940e+14,  3.41383634e+14,  3.41383634e+14,\n",
       "             3.41383634e+14,  3.41383634e+14,  3.41383634e+14,\n",
       "             3.41383634e+14,  3.41383634e+14,  3.41383634e+14,\n",
       "             3.41383634e+14,  3.41383634e+14,  3.41383634e+14,\n",
       "             3.41383634e+14,  3.41383634e+14,  3.41383634e+14,\n",
       "             3.41383634e+14,  3.41383634e+14,  3.41383634e+14,\n",
       "             3.41383634e+14,  3.41383634e+14,  3.41383634e+14,\n",
       "             3.41383634e+14,  3.41383634e+14,  3.41383634e+14,\n",
       "             3.41383634e+14,  3.41383634e+14,  3.41383634e+14,\n",
       "             3.41383634e+14,  3.41383634e+14,  3.41383634e+14,\n",
       "             3.41383634e+14,  3.41383634e+14,  3.41383634e+14,\n",
       "             3.41383634e+14,  3.41383634e+14,  3.41383634e+14,\n",
       "             3.41383634e+14,  3.41383634e+14,  3.41383634e+14,\n",
       "             3.41383634e+14,  3.41383634e+14,  3.41383634e+14,\n",
       "             3.41383634e+14,  3.41383634e+14,  3.41383634e+14,\n",
       "             3.41383634e+14,  3.41383634e+14,  3.41383634e+14,\n",
       "             3.41383634e+14,  3.41383634e+14,  3.41383634e+14,\n",
       "             3.41383634e+14] Hz>"
      ]
     },
     "execution_count": 13,
     "metadata": {},
     "output_type": "execute_result"
    }
   ],
   "source": [
    "(c.c / data['wavelength'].quantity).to(u.Hz)"
   ]
  },
  {
   "cell_type": "markdown",
   "metadata": {},
   "source": [
    "But Astropy has an even cooler way to do this using unit *equivalencies*:"
   ]
  },
  {
   "cell_type": "code",
   "execution_count": 14,
   "metadata": {},
   "outputs": [
    {
     "data": {
      "text/latex": [
       "$[6.8583201 \\times 10^{14},~6.8583201 \\times 10^{14},~6.8583201 \\times 10^{14},~\\dots, 3.4138363 \\times 10^{14},~3.4138363 \\times 10^{14},~3.4138363 \\times 10^{14}] \\; \\mathrm{Hz}$"
      ],
      "text/plain": [
       "<Quantity [  6.85832011e+14,  6.85832011e+14,  6.85832011e+14,\n",
       "             6.85832011e+14,  6.85832011e+14,  6.85832011e+14,\n",
       "             6.85832011e+14,  6.85832011e+14,  6.85832011e+14,\n",
       "             6.85832011e+14,  6.85832011e+14,  6.85832011e+14,\n",
       "             6.85832011e+14,  6.85832011e+14,  6.85832011e+14,\n",
       "             2.60348033e+14,  2.60348033e+14,  2.60348033e+14,\n",
       "             2.60348033e+14,  2.60348033e+14,  2.60348033e+14,\n",
       "             2.60348033e+14,  1.94253218e+14,  1.94253218e+14,\n",
       "             1.94253218e+14,  1.94253218e+14,  1.94253218e+14,\n",
       "             1.94253218e+14,  1.94253218e+14,  8.90030101e+14,\n",
       "             8.90030101e+14,  8.90030101e+14,  8.90030101e+14,\n",
       "             6.28736000e+14,  6.28736000e+14,  6.28736000e+14,\n",
       "             6.28736000e+14,  6.28736000e+14,  6.28736000e+14,\n",
       "             6.28736000e+14,  5.04578916e+14,  5.04578916e+14,\n",
       "             5.04578916e+14,  5.04578916e+14,  4.77840083e+14,\n",
       "             3.88076248e+14,  3.83650295e+14,  3.83650295e+14,\n",
       "             3.30083352e+14,  1.83819022e+14,  1.83819022e+14,\n",
       "             1.83819022e+14,  1.83819022e+14,  1.83819022e+14,\n",
       "             1.83819022e+14,  1.83819022e+14,  1.83819022e+14,\n",
       "             1.83819022e+14,  1.83819022e+14,  1.83819022e+14,\n",
       "             1.83819022e+14,  1.83819022e+14,  1.83819022e+14,\n",
       "             1.83819022e+14,  1.83819022e+14,  1.83819022e+14,\n",
       "             1.83819022e+14,  1.83819022e+14,  1.83819022e+14,\n",
       "             1.83819022e+14,  1.83819022e+14,  1.83819022e+14,\n",
       "             1.83819022e+14,  1.83819022e+14,  1.83819022e+14,\n",
       "             1.83819022e+14,  1.83819022e+14,  1.83819022e+14,\n",
       "             1.83819022e+14,  1.83819022e+14,  1.83819022e+14,\n",
       "             1.83819022e+14,  1.83819022e+14,  1.83819022e+14,\n",
       "             1.83819022e+14,  1.83819022e+14,  1.83819022e+14,\n",
       "             1.83819022e+14,  1.83819022e+14,  1.83819022e+14,\n",
       "             1.83819022e+14,  1.83819022e+14,  1.83819022e+14,\n",
       "             1.83819022e+14,  1.83819022e+14,  1.83819022e+14,\n",
       "             3.83286344e+14,  3.83286344e+14,  3.83286344e+14,\n",
       "             3.83286344e+14,  3.83286344e+14,  3.83286344e+14,\n",
       "             3.83286344e+14,  3.83286344e+14,  3.83286344e+14,\n",
       "             3.83286344e+14,  3.83286344e+14,  3.83286344e+14,\n",
       "             3.83286344e+14,  3.83286344e+14,  3.83286344e+14,\n",
       "             3.83286344e+14,  3.83286344e+14,  3.83286344e+14,\n",
       "             3.83286344e+14,  3.83286344e+14,  3.83286344e+14,\n",
       "             3.83286344e+14,  3.83286344e+14,  3.83286344e+14,\n",
       "             3.83286344e+14,  2.39114850e+14,  2.39114850e+14,\n",
       "             2.39114850e+14,  2.39114850e+14,  2.39114850e+14,\n",
       "             2.39114850e+14,  2.39114850e+14,  2.39114850e+14,\n",
       "             2.39114850e+14,  2.39114850e+14,  2.39114850e+14,\n",
       "             2.39114850e+14,  2.39114850e+14,  2.39114850e+14,\n",
       "             2.39114850e+14,  2.39114850e+14,  2.39114850e+14,\n",
       "             2.39114850e+14,  2.39114850e+14,  2.39114850e+14,\n",
       "             2.39114850e+14,  2.39114850e+14,  2.39114850e+14,\n",
       "             2.39114850e+14,  2.39114850e+14,  2.39114850e+14,\n",
       "             2.39114850e+14,  2.39114850e+14,  2.39114850e+14,\n",
       "             2.39114850e+14,  2.39114850e+14,  2.39114850e+14,\n",
       "             2.39114850e+14,  2.39114850e+14,  2.39114850e+14,\n",
       "             2.39114850e+14,  2.39114850e+14,  2.39114850e+14,\n",
       "             2.39114850e+14,  2.39114850e+14,  2.39114850e+14,\n",
       "             2.39114850e+14,  2.39114850e+14,  2.39114850e+14,\n",
       "             2.84224664e+14,  2.84224664e+14,  1.39069259e+14,\n",
       "             1.39069259e+14,  1.39069259e+14,  1.39069259e+14,\n",
       "             1.39069259e+14,  1.39069259e+14,  1.39069259e+14,\n",
       "             1.39069259e+14,  1.39069259e+14,  1.39069259e+14,\n",
       "             1.39069259e+14,  1.39069259e+14,  1.39069259e+14,\n",
       "             1.39069259e+14,  1.39069259e+14,  1.39069259e+14,\n",
       "             1.39069259e+14,  1.39069259e+14,  1.39069259e+14,\n",
       "             1.39069259e+14,  1.39069259e+14,  1.39069259e+14,\n",
       "             1.39069259e+14,  1.39069259e+14,  1.39069259e+14,\n",
       "             1.39069259e+14,  1.39069259e+14,  1.39069259e+14,\n",
       "             1.39069259e+14,  1.39069259e+14,  1.39069259e+14,\n",
       "             1.39069259e+14,  1.39069259e+14,  1.39069259e+14,\n",
       "             1.39069259e+14,  1.39069259e+14,  1.39069259e+14,\n",
       "             1.39069259e+14,  1.39069259e+14,  1.39069259e+14,\n",
       "             1.39069259e+14,  1.39069259e+14,  1.39069259e+14,\n",
       "             1.39069259e+14,  1.39069259e+14,  1.39069259e+14,\n",
       "             1.39069259e+14,  1.39069259e+14,  1.39069259e+14,\n",
       "             1.39069259e+14,  1.39069259e+14,  1.39069259e+14,\n",
       "             1.39069259e+14,  1.39069259e+14,  1.39069259e+14,\n",
       "             1.39069259e+14,  1.39069259e+14,  1.39069259e+14,\n",
       "             1.39069259e+14,  1.39069259e+14,  1.39069259e+14,\n",
       "             1.39069259e+14,  1.39069259e+14,  1.39069259e+14,\n",
       "             1.39069259e+14,  1.39069259e+14,  1.39069259e+14,\n",
       "             1.39069259e+14,  1.39069259e+14,  1.39069259e+14,\n",
       "             1.39069259e+14,  1.39069259e+14,  1.39069259e+14,\n",
       "             1.39069259e+14,  1.39069259e+14,  1.39069259e+14,\n",
       "             1.39069259e+14,  1.39069259e+14,  1.39069259e+14,\n",
       "             1.39069259e+14,  1.39069259e+14,  1.39069259e+14,\n",
       "             1.39069259e+14,  1.39069259e+14,  1.33478176e+15,\n",
       "             1.33478176e+15,  4.67423087e+14,  4.67423087e+14,\n",
       "             4.67423087e+14,  4.67423087e+14,  4.67423087e+14,\n",
       "             4.67423087e+14,  4.67423087e+14,  4.67423087e+14,\n",
       "             4.67423087e+14,  4.67423087e+14,  4.67423087e+14,\n",
       "             4.67423087e+14,  4.67423087e+14,  4.67423087e+14,\n",
       "             4.67423087e+14,  4.67423087e+14,  4.67423087e+14,\n",
       "             4.67423087e+14,  4.67423087e+14,  4.67423087e+14,\n",
       "             8.65665384e+14,  8.65665384e+14,  8.65665384e+14,\n",
       "             8.65665384e+14,  8.65665384e+14,  8.65665384e+14,\n",
       "             8.65665384e+14,  8.65665384e+14,  8.65665384e+14,\n",
       "             8.65665384e+14,  5.50967640e+14,  5.50967640e+14,\n",
       "             5.50967640e+14,  5.50967640e+14,  5.50967640e+14,\n",
       "             5.50967640e+14,  5.50967640e+14,  5.50967640e+14,\n",
       "             5.50967640e+14,  5.50967640e+14,  5.50967640e+14,\n",
       "             5.50967640e+14,  5.50967640e+14,  5.50967640e+14,\n",
       "             5.50967640e+14,  5.50967640e+14,  5.50967640e+14,\n",
       "             5.50967640e+14,  5.50967640e+14,  5.50967640e+14,\n",
       "             5.50967640e+14,  5.50967640e+14,  5.50967640e+14,\n",
       "             5.50967640e+14,  5.50967640e+14,  5.50967640e+14,\n",
       "             5.50967640e+14,  5.50967640e+14,  1.15102514e+15,\n",
       "             1.15102514e+15,  1.54434971e+15,  3.04606126e+14,\n",
       "             3.04606126e+14,  3.04606126e+14,  3.04606126e+14,\n",
       "             3.04606126e+14,  3.04606126e+14,  3.04606126e+14,\n",
       "             3.04606126e+14,  3.04606126e+14,  3.04606126e+14,\n",
       "             3.04606126e+14,  3.04606126e+14,  3.04606126e+14,\n",
       "             3.04606126e+14,  3.04606126e+14,  3.04606126e+14,\n",
       "             3.04606126e+14,  3.04606126e+14,  3.04606126e+14,\n",
       "             3.04606126e+14,  3.04606126e+14,  6.37811617e+14,\n",
       "             6.37811617e+14,  6.37811617e+14,  6.37811617e+14,\n",
       "             6.37811617e+14,  6.37811617e+14,  6.37811617e+14,\n",
       "             6.37811617e+14,  6.37811617e+14,  6.37811617e+14,\n",
       "             6.37811617e+14,  6.37811617e+14,  6.37811617e+14,\n",
       "             6.37811617e+14,  6.37811617e+14,  6.37811617e+14,\n",
       "             6.37811617e+14,  6.37811617e+14,  6.37811617e+14,\n",
       "             6.37811617e+14,  6.37811617e+14,  6.37811617e+14,\n",
       "             6.37811617e+14,  6.37811617e+14,  6.37811617e+14,\n",
       "             6.37811617e+14,  6.37811617e+14,  6.37811617e+14,\n",
       "             6.37811617e+14,  6.37811617e+14,  6.37811617e+14,\n",
       "             6.37811617e+14,  6.37811617e+14,  6.37811617e+14,\n",
       "             6.37811617e+14,  6.37811617e+14,  6.37811617e+14,\n",
       "             6.37811617e+14,  6.37811617e+14,  6.37811617e+14,\n",
       "             6.37811617e+14,  6.37811617e+14,  6.37811617e+14,\n",
       "             6.37811617e+14,  6.37811617e+14,  6.37811617e+14,\n",
       "             6.37811617e+14,  6.37811617e+14,  6.37811617e+14,\n",
       "             6.37811617e+14,  6.37811617e+14,  6.37811617e+14,\n",
       "             3.97938912e+14,  3.97938912e+14,  3.97938912e+14,\n",
       "             3.97938912e+14,  3.97938912e+14,  3.97938912e+14,\n",
       "             3.97938912e+14,  3.97938912e+14,  3.97938912e+14,\n",
       "             3.97938912e+14,  3.97938912e+14,  3.97938912e+14,\n",
       "             3.97938912e+14,  3.97938912e+14,  3.97938912e+14,\n",
       "             3.97938912e+14,  3.97938912e+14,  3.97938912e+14,\n",
       "             3.97938912e+14,  3.97938912e+14,  3.97938912e+14,\n",
       "             3.97938912e+14,  3.97938912e+14,  3.97938912e+14,\n",
       "             3.97938912e+14,  3.97938912e+14,  3.97938912e+14,\n",
       "             3.97938912e+14,  3.97938912e+14,  3.97938912e+14,\n",
       "             3.97938912e+14,  3.97938912e+14,  3.97938912e+14,\n",
       "             3.97938912e+14,  3.97938912e+14,  3.97938912e+14,\n",
       "             3.97938912e+14,  3.97938912e+14,  3.97938912e+14,\n",
       "             3.97938912e+14,  3.97938912e+14,  3.97938912e+14,\n",
       "             3.97938912e+14,  3.97938912e+14,  3.97938912e+14,\n",
       "             3.97938912e+14,  3.97938912e+14,  3.97938912e+14,\n",
       "             3.97938912e+14,  3.97938912e+14,  3.97938912e+14,\n",
       "             3.97938912e+14,  3.97938912e+14,  3.97938912e+14,\n",
       "             3.97938912e+14,  3.97938912e+14,  3.97938912e+14,\n",
       "             3.97938912e+14,  3.97938912e+14,  3.97938912e+14,\n",
       "             3.97938912e+14,  3.97938912e+14,  3.97938912e+14,\n",
       "             3.97938912e+14,  3.97938912e+14,  3.97938912e+14,\n",
       "             4.85534389e+14,  4.85534389e+14,  4.85534389e+14,\n",
       "             4.85534389e+14,  4.85534389e+14,  4.85534389e+14,\n",
       "             4.85534389e+14,  4.85534389e+14,  4.85534389e+14,\n",
       "             4.85534389e+14,  4.85534389e+14,  4.85534389e+14,\n",
       "             4.85534389e+14,  4.85534389e+14,  4.85534389e+14,\n",
       "             4.85534389e+14,  4.85534389e+14,  4.85534389e+14,\n",
       "             4.85534389e+14,  4.85534389e+14,  4.85534389e+14,\n",
       "             4.85534389e+14,  4.85534389e+14,  4.85534389e+14,\n",
       "             4.85534389e+14,  4.85534389e+14,  4.85534389e+14,\n",
       "             4.85534389e+14,  4.85534389e+14,  4.85534389e+14,\n",
       "             4.85534389e+14,  4.85534389e+14,  4.85534389e+14,\n",
       "             4.85534389e+14,  4.85534389e+14,  4.85534389e+14,\n",
       "             4.85534389e+14,  4.85534389e+14,  4.85534389e+14,\n",
       "             4.85534389e+14,  4.85534389e+14,  4.85534389e+14,\n",
       "             4.85534389e+14,  4.85534389e+14,  4.85534389e+14,\n",
       "             4.85534389e+14,  4.85534389e+14,  4.85534389e+14,\n",
       "             4.85534389e+14,  4.85534389e+14,  4.85534389e+14,\n",
       "             4.85534389e+14,  4.85534389e+14,  4.85534389e+14,\n",
       "             4.85534389e+14,  4.85534389e+14,  4.85534389e+14,\n",
       "             4.85534389e+14,  4.85534389e+14,  4.85534389e+14,\n",
       "             4.85534389e+14,  4.85534389e+14,  4.85534389e+14,\n",
       "             4.85534389e+14,  4.85534389e+14,  4.85534389e+14,\n",
       "             4.85534389e+14,  4.85534389e+14,  4.85534389e+14,\n",
       "             4.85534389e+14,  4.85534389e+14,  4.85534389e+14,\n",
       "             4.85534389e+14,  4.85534389e+14,  4.85534389e+14,\n",
       "             4.85534389e+14,  4.85534389e+14,  4.85534389e+14,\n",
       "             4.85534389e+14,  4.85534389e+14,  4.85534389e+14,\n",
       "             4.85534389e+14,  4.85534389e+14,  4.85534389e+14,\n",
       "             4.85534389e+14,  4.85534389e+14,  8.40919667e+14,\n",
       "             8.40919667e+14,  8.40919667e+14,  4.80914281e+14,\n",
       "             4.80914281e+14,  4.80914281e+14,  4.80914281e+14,\n",
       "             4.80914281e+14,  4.80914281e+14,  4.80914281e+14,\n",
       "             4.80914281e+14,  4.80914281e+14,  4.80914281e+14,\n",
       "             4.80914281e+14,  4.80914281e+14,  4.80914281e+14,\n",
       "             4.80914281e+14,  4.80914281e+14,  4.80914281e+14,\n",
       "             4.80914281e+14,  4.80914281e+14,  3.15245940e+14,\n",
       "             3.15245940e+14,  3.15245940e+14,  3.15245940e+14,\n",
       "             3.15245940e+14,  3.41383634e+14,  3.41383634e+14,\n",
       "             3.41383634e+14,  3.41383634e+14,  3.41383634e+14,\n",
       "             3.41383634e+14,  3.41383634e+14,  3.41383634e+14,\n",
       "             3.41383634e+14,  3.41383634e+14,  3.41383634e+14,\n",
       "             3.41383634e+14,  3.41383634e+14,  3.41383634e+14,\n",
       "             3.41383634e+14,  3.41383634e+14,  3.41383634e+14,\n",
       "             3.41383634e+14,  3.41383634e+14,  3.41383634e+14,\n",
       "             3.41383634e+14,  3.41383634e+14,  3.41383634e+14,\n",
       "             3.41383634e+14,  3.41383634e+14,  3.41383634e+14,\n",
       "             3.41383634e+14,  3.41383634e+14,  3.41383634e+14,\n",
       "             3.41383634e+14,  3.41383634e+14,  3.41383634e+14,\n",
       "             3.41383634e+14,  3.41383634e+14,  3.41383634e+14,\n",
       "             3.41383634e+14,  3.41383634e+14,  3.41383634e+14,\n",
       "             3.41383634e+14,  3.41383634e+14,  3.41383634e+14,\n",
       "             3.41383634e+14,  3.41383634e+14,  3.41383634e+14,\n",
       "             3.41383634e+14,  3.41383634e+14,  3.41383634e+14,\n",
       "             3.41383634e+14,  3.41383634e+14,  3.41383634e+14,\n",
       "             3.41383634e+14] Hz>"
      ]
     },
     "execution_count": 14,
     "metadata": {},
     "output_type": "execute_result"
    }
   ],
   "source": [
    "data['wavelength'].quantity.to(u.Hz, equivalencies=u.spectral())"
   ]
  },
  {
   "cell_type": "code",
   "execution_count": 15,
   "metadata": {},
   "outputs": [],
   "source": [
    "data['frequency'] = data.columns.pop('wavelength').quantity.to(u.Hz, equivalencies=u.spectral())"
   ]
  },
  {
   "cell_type": "markdown",
   "metadata": {},
   "source": [
    "Finally, let's sort the table by time and frequency."
   ]
  },
  {
   "cell_type": "code",
   "execution_count": 16,
   "metadata": {},
   "outputs": [],
   "source": [
    "data.sort(['time', 'frequency'])"
   ]
  },
  {
   "cell_type": "markdown",
   "metadata": {},
   "source": [
    "Let's take a look at the resulting table."
   ]
  },
  {
   "cell_type": "code",
   "execution_count": 17,
   "metadata": {},
   "outputs": [
    {
     "data": {
      "text/html": [
       "&lt;Table masked=True length=616&gt;\n",
       "<table id=\"table4691366688\" class=\"table-striped table-bordered table-condensed\">\n",
       "<thead><tr><th>telescope</th><th>instrument</th><th>band</th><th>time</th><th>fluxdensity</th><th>e_fluxdensity</th><th>frequency</th></tr></thead>\n",
       "<thead><tr><th></th><th></th><th></th><th>d</th><th>mJy</th><th>mJy</th><th>Hz</th></tr></thead>\n",
       "<thead><tr><th>str10</th><th>str11</th><th>str5</th><th>float64</th><th>float64</th><th>float64</th><th>float64</th></tr></thead>\n",
       "<tr><td>Swope</td><td>Swope</td><td>i</td><td>0.452876354163</td><td>0.444468580565</td><td>0.0081874138233</td><td>3.97938911633e+14</td></tr>\n",
       "<tr><td>Magellan</td><td>FourStar</td><td>H</td><td>0.461676354166</td><td>0.189628995087</td><td>0.0261982138373</td><td>1.83819021543e+14</td></tr>\n",
       "<tr><td>Prompt5</td><td>--</td><td>r</td><td>0.464476354168</td><td>0.48381733433</td><td>0.0133683669811</td><td>4.85534389418e+14</td></tr>\n",
       "<tr><td>VISTA</td><td>VIRCAM</td><td>Ks</td><td>0.470476354169</td><td>0.133852116895</td><td>0.00616411778058</td><td>1.39069259261e+14</td></tr>\n",
       "<tr><td>Magellan</td><td>FourStar</td><td>J</td><td>0.471476354166</td><td>0.289308462504</td><td>0.0399694411823</td><td>2.39114850432e+14</td></tr>\n",
       "<tr><td>Magellan</td><td>LDSS</td><td>z</td><td>0.471476354166</td><td>0.357825144994</td><td>0.00988707413713</td><td>3.41383633783e+14</td></tr>\n",
       "<tr><td>Magellan</td><td>LDSS</td><td>r</td><td>0.471476354166</td><td>0.54535766851</td><td>0.0100458595029</td><td>4.85534389418e+14</td></tr>\n",
       "<tr><td>Magellan</td><td>LDSS</td><td>V</td><td>0.471476354166</td><td>0.561860955361</td><td>0.0103498612812</td><td>5.5096764044e+14</td></tr>\n",
       "<tr><td>--</td><td>DECam</td><td>i</td><td>0.474535854172</td><td>0.444415043384</td><td>0.0103552142873</td><td>3.97938911633e+14</td></tr>\n",
       "<tr><td>...</td><td>...</td><td>...</td><td>...</td><td>...</td><td>...</td><td>...</td></tr>\n",
       "<tr><td>Magellan</td><td>FourStar</td><td>Ks</td><td>18.4314763542</td><td>0.0178084140279</td><td>0.00213228021087</td><td>1.39069259261e+14</td></tr>\n",
       "<tr><td>NTT</td><td>EFOSC2</td><td>K</td><td>18.4378263542</td><td>0.0186476987242</td><td>0.00601130783412</td><td>1.39069259261e+14</td></tr>\n",
       "<tr><td>--</td><td>Gemini</td><td>K</td><td>18.4497749653</td><td>0.0173230853055</td><td>0.00414833931088</td><td>1.39069259261e+14</td></tr>\n",
       "<tr><td>Gemini-S</td><td>FLAMINGOS-2</td><td>Ks</td><td>18.4504763542</td><td>0.0144087147609</td><td>0.00119438250543</td><td>1.39069259261e+14</td></tr>\n",
       "<tr><td>Magellan</td><td>FourStar</td><td>Ks</td><td>18.4614763542</td><td>0.0159450264509</td><td>0.0024966050545</td><td>1.39069259261e+14</td></tr>\n",
       "<tr><td>Gemini</td><td>--</td><td>Ks</td><td>19.4599953542</td><td>0.0171642663048</td><td>0.00205515355374</td><td>1.39069259261e+14</td></tr>\n",
       "<tr><td>Gemini-S</td><td>FLAMINGOS-2</td><td>Ks</td><td>19.4604763542</td><td>0.0120955394989</td><td>0.00412194932341</td><td>1.39069259261e+14</td></tr>\n",
       "<tr><td>VLT</td><td>VIMOS</td><td>z</td><td>19.4634763542</td><td>0.00187789305558</td><td>0.000830209642753</td><td>3.41383633783e+14</td></tr>\n",
       "<tr><td>VLT</td><td>HAWKI</td><td>Ks</td><td>21.4404763542</td><td>0.00978645140692</td><td>0.000721092387933</td><td>1.39069259261e+14</td></tr>\n",
       "<tr><td>VLT</td><td>HAWKI</td><td>Ks</td><td>25.4404763542</td><td>0.00563151498435</td><td>0.00114109973595</td><td>1.39069259261e+14</td></tr>\n",
       "</table>"
      ],
      "text/plain": [
       "<Table masked=True length=616>\n",
       "telescope  instrument band ...   e_fluxdensity       frequency    \n",
       "                           ...        mJy                Hz       \n",
       "  str10      str11    str5 ...      float64           float64     \n",
       "--------- ----------- ---- ... ----------------- -----------------\n",
       "    Swope       Swope    i ...   0.0081874138233 3.97938911633e+14\n",
       " Magellan    FourStar    H ...   0.0261982138373 1.83819021543e+14\n",
       "  Prompt5          --    r ...   0.0133683669811 4.85534389418e+14\n",
       "    VISTA      VIRCAM   Ks ...  0.00616411778058 1.39069259261e+14\n",
       " Magellan    FourStar    J ...   0.0399694411823 2.39114850432e+14\n",
       " Magellan        LDSS    z ...  0.00988707413713 3.41383633783e+14\n",
       " Magellan        LDSS    r ...   0.0100458595029 4.85534389418e+14\n",
       " Magellan        LDSS    V ...   0.0103498612812  5.5096764044e+14\n",
       "       --       DECam    i ...   0.0103552142873 3.97938911633e+14\n",
       "      ...         ...  ... ...               ...               ...\n",
       " Magellan    FourStar   Ks ...  0.00213228021087 1.39069259261e+14\n",
       "      NTT      EFOSC2    K ...  0.00601130783412 1.39069259261e+14\n",
       "       --      Gemini    K ...  0.00414833931088 1.39069259261e+14\n",
       " Gemini-S FLAMINGOS-2   Ks ...  0.00119438250543 1.39069259261e+14\n",
       " Magellan    FourStar   Ks ...   0.0024966050545 1.39069259261e+14\n",
       "   Gemini          --   Ks ...  0.00205515355374 1.39069259261e+14\n",
       " Gemini-S FLAMINGOS-2   Ks ...  0.00412194932341 1.39069259261e+14\n",
       "      VLT       VIMOS    z ... 0.000830209642753 3.41383633783e+14\n",
       "      VLT       HAWKI   Ks ... 0.000721092387933 1.39069259261e+14\n",
       "      VLT       HAWKI   Ks ...  0.00114109973595 1.39069259261e+14"
      ]
     },
     "execution_count": 17,
     "metadata": {},
     "output_type": "execute_result"
    }
   ],
   "source": [
    "data"
   ]
  },
  {
   "cell_type": "markdown",
   "metadata": {},
   "source": [
    "## Save as ASCII"
   ]
  },
  {
   "cell_type": "code",
   "execution_count": 18,
   "metadata": {},
   "outputs": [],
   "source": [
    "data.write('data/obs.ecsv', format='ascii.ecsv', overwrite=True)"
   ]
  }
 ],
 "metadata": {
  "kernelspec": {
   "display_name": "Python 3",
   "language": "python",
   "name": "python3"
  },
  "language_info": {
   "codemirror_mode": {
    "name": "ipython",
    "version": 3
   },
   "file_extension": ".py",
   "mimetype": "text/x-python",
   "name": "python",
   "nbconvert_exporter": "python",
   "pygments_lexer": "ipython3",
   "version": "3.6.4"
  }
 },
 "nbformat": 4,
 "nbformat_minor": 2
}
